{
 "cells": [
  {
   "cell_type": "markdown",
   "id": "4a9a1663",
   "metadata": {
    "id": "4a9a1663"
   },
   "source": [
    "# Data Preperation"
   ]
  },
  {
   "cell_type": "code",
   "execution_count": null,
   "id": "tYUmOnIBdi9P",
   "metadata": {
    "colab": {
     "base_uri": "https://localhost:8080/"
    },
    "id": "tYUmOnIBdi9P",
    "outputId": "518b4991-fb70-4ee6-b6e5-95fe4ce74576"
   },
   "outputs": [
    {
     "name": "stdout",
     "output_type": "stream",
     "text": [
      "Wed Dec 15 14:23:42 2021       \n",
      "+-----------------------------------------------------------------------------+\n",
      "| NVIDIA-SMI 495.44       Driver Version: 460.32.03    CUDA Version: 11.2     |\n",
      "|-------------------------------+----------------------+----------------------+\n",
      "| GPU  Name        Persistence-M| Bus-Id        Disp.A | Volatile Uncorr. ECC |\n",
      "| Fan  Temp  Perf  Pwr:Usage/Cap|         Memory-Usage | GPU-Util  Compute M. |\n",
      "|                               |                      |               MIG M. |\n",
      "|===============================+======================+======================|\n",
      "|   0  Tesla P100-PCIE...  Off  | 00000000:00:04.0 Off |                    0 |\n",
      "| N/A   36C    P0    26W / 250W |      0MiB / 16280MiB |      0%      Default |\n",
      "|                               |                      |                  N/A |\n",
      "+-------------------------------+----------------------+----------------------+\n",
      "                                                                               \n",
      "+-----------------------------------------------------------------------------+\n",
      "| Processes:                                                                  |\n",
      "|  GPU   GI   CI        PID   Type   Process name                  GPU Memory |\n",
      "|        ID   ID                                                   Usage      |\n",
      "|=============================================================================|\n",
      "|  No running processes found                                                 |\n",
      "+-----------------------------------------------------------------------------+\n"
     ]
    }
   ],
   "source": [
    "gpu_info = !nvidia-smi\n",
    "gpu_info = '\\n'.join(gpu_info)\n",
    "if gpu_info.find('failed') >= 0:\n",
    "  print('Not connected to a GPU')\n",
    "else:\n",
    "  print(gpu_info)"
   ]
  },
  {
   "cell_type": "code",
   "execution_count": 109,
   "id": "w6jPw-PPwVyo",
   "metadata": {
    "id": "w6jPw-PPwVyo"
   },
   "outputs": [],
   "source": [
    "import matplotlib.pyplot as plt\n",
    "import numpy as np"
   ]
  },
  {
   "cell_type": "code",
   "execution_count": 110,
   "id": "b51307b1",
   "metadata": {
    "id": "b51307b1"
   },
   "outputs": [],
   "source": [
    "import pandas as pd\n",
    "import csv\n",
    "df = pd.read_csv(\"train.csv\", encoding=\"latin\")"
   ]
  },
  {
   "cell_type": "code",
   "execution_count": 111,
   "id": "jleHDW7fxOSp",
   "metadata": {
    "colab": {
     "base_uri": "https://localhost:8080/"
    },
    "id": "jleHDW7fxOSp",
    "outputId": "9f2a2389-1b29-4a43-d68f-90110cad67b1"
   },
   "outputs": [
    {
     "name": "stdout",
     "output_type": "stream",
     "text": [
      "[nltk_data] Downloading package wordnet to /root/nltk_data...\n",
      "[nltk_data]   Package wordnet is already up-to-date!\n"
     ]
    },
    {
     "data": {
      "text/plain": [
       "True"
      ]
     },
     "execution_count": 111,
     "metadata": {},
     "output_type": "execute_result"
    }
   ],
   "source": [
    "import nltk\n",
    "nltk.download('wordnet')"
   ]
  },
  {
   "cell_type": "code",
   "execution_count": 112,
   "id": "3a37d11e",
   "metadata": {
    "colab": {
     "base_uri": "https://localhost:8080/",
     "height": 206
    },
    "id": "3a37d11e",
    "outputId": "22aef551-3cfa-446b-d1e0-a50ab11a0121"
   },
   "outputs": [
    {
     "data": {
      "text/html": [
       "<div>\n",
       "<style scoped>\n",
       "    .dataframe tbody tr th:only-of-type {\n",
       "        vertical-align: middle;\n",
       "    }\n",
       "\n",
       "    .dataframe tbody tr th {\n",
       "        vertical-align: top;\n",
       "    }\n",
       "\n",
       "    .dataframe thead th {\n",
       "        text-align: right;\n",
       "    }\n",
       "</style>\n",
       "<table border=\"1\" class=\"dataframe\">\n",
       "  <thead>\n",
       "    <tr style=\"text-align: right;\">\n",
       "      <th></th>\n",
       "      <th>id</th>\n",
       "      <th>product_uid</th>\n",
       "      <th>product_title</th>\n",
       "      <th>search_term</th>\n",
       "      <th>relevance</th>\n",
       "    </tr>\n",
       "  </thead>\n",
       "  <tbody>\n",
       "    <tr>\n",
       "      <th>0</th>\n",
       "      <td>2</td>\n",
       "      <td>100001</td>\n",
       "      <td>Simpson Strong-Tie 12-Gauge Angle</td>\n",
       "      <td>angle bracket</td>\n",
       "      <td>3.00</td>\n",
       "    </tr>\n",
       "    <tr>\n",
       "      <th>1</th>\n",
       "      <td>3</td>\n",
       "      <td>100001</td>\n",
       "      <td>Simpson Strong-Tie 12-Gauge Angle</td>\n",
       "      <td>l bracket</td>\n",
       "      <td>2.50</td>\n",
       "    </tr>\n",
       "    <tr>\n",
       "      <th>2</th>\n",
       "      <td>9</td>\n",
       "      <td>100002</td>\n",
       "      <td>BEHR Premium Textured DeckOver 1-gal. #SC-141 ...</td>\n",
       "      <td>deck over</td>\n",
       "      <td>3.00</td>\n",
       "    </tr>\n",
       "    <tr>\n",
       "      <th>3</th>\n",
       "      <td>16</td>\n",
       "      <td>100005</td>\n",
       "      <td>Delta Vero 1-Handle Shower Only Faucet Trim Ki...</td>\n",
       "      <td>rain shower head</td>\n",
       "      <td>2.33</td>\n",
       "    </tr>\n",
       "    <tr>\n",
       "      <th>4</th>\n",
       "      <td>17</td>\n",
       "      <td>100005</td>\n",
       "      <td>Delta Vero 1-Handle Shower Only Faucet Trim Ki...</td>\n",
       "      <td>shower only faucet</td>\n",
       "      <td>2.67</td>\n",
       "    </tr>\n",
       "  </tbody>\n",
       "</table>\n",
       "</div>"
      ],
      "text/plain": [
       "   id  product_uid  ...         search_term relevance\n",
       "0   2       100001  ...       angle bracket      3.00\n",
       "1   3       100001  ...           l bracket      2.50\n",
       "2   9       100002  ...           deck over      3.00\n",
       "3  16       100005  ...    rain shower head      2.33\n",
       "4  17       100005  ...  shower only faucet      2.67\n",
       "\n",
       "[5 rows x 5 columns]"
      ]
     },
     "execution_count": 112,
     "metadata": {},
     "output_type": "execute_result"
    }
   ],
   "source": [
    "df.head()"
   ]
  },
  {
   "cell_type": "code",
   "execution_count": 114,
   "id": "SrGYgLSSRrcN",
   "metadata": {
    "colab": {
     "base_uri": "https://localhost:8080/"
    },
    "id": "SrGYgLSSRrcN",
    "outputId": "779f1809-8c57-4f5e-e4fd-322296e22201"
   },
   "outputs": [
    {
     "name": "stdout",
     "output_type": "stream",
     "text": [
      "Number of products : 54667\n",
      "Total number of data points : 74067\n"
     ]
    }
   ],
   "source": [
    "print(\"Number of products :\", len(df[\"product_uid\"].unique()))\n",
    "print(\"Total number of data points :\",df.shape[0])"
   ]
  },
  {
   "cell_type": "code",
   "execution_count": 6,
   "id": "69b0ad2e",
   "metadata": {
    "id": "69b0ad2e"
   },
   "outputs": [],
   "source": [
    "attributes = pd.read_csv(\"attributes.csv\")"
   ]
  },
  {
   "cell_type": "code",
   "execution_count": 7,
   "id": "0801176b",
   "metadata": {
    "colab": {
     "base_uri": "https://localhost:8080/",
     "height": 206
    },
    "id": "0801176b",
    "outputId": "65c512a9-f7e5-4295-b9da-ade450dad021"
   },
   "outputs": [
    {
     "data": {
      "text/html": [
       "<div>\n",
       "<style scoped>\n",
       "    .dataframe tbody tr th:only-of-type {\n",
       "        vertical-align: middle;\n",
       "    }\n",
       "\n",
       "    .dataframe tbody tr th {\n",
       "        vertical-align: top;\n",
       "    }\n",
       "\n",
       "    .dataframe thead th {\n",
       "        text-align: right;\n",
       "    }\n",
       "</style>\n",
       "<table border=\"1\" class=\"dataframe\">\n",
       "  <thead>\n",
       "    <tr style=\"text-align: right;\">\n",
       "      <th></th>\n",
       "      <th>product_uid</th>\n",
       "      <th>name</th>\n",
       "      <th>value</th>\n",
       "    </tr>\n",
       "  </thead>\n",
       "  <tbody>\n",
       "    <tr>\n",
       "      <th>2044798</th>\n",
       "      <td>224428.0</td>\n",
       "      <td>Pilot Bit Included</td>\n",
       "      <td>No</td>\n",
       "    </tr>\n",
       "    <tr>\n",
       "      <th>2044799</th>\n",
       "      <td>224428.0</td>\n",
       "      <td>Power Tool Product Type</td>\n",
       "      <td>Drill &amp; Router Bits</td>\n",
       "    </tr>\n",
       "    <tr>\n",
       "      <th>2044800</th>\n",
       "      <td>224428.0</td>\n",
       "      <td>Shank Diameter</td>\n",
       "      <td>3/8 in</td>\n",
       "    </tr>\n",
       "    <tr>\n",
       "      <th>2044801</th>\n",
       "      <td>224428.0</td>\n",
       "      <td>Shank Style</td>\n",
       "      <td>Hex</td>\n",
       "    </tr>\n",
       "    <tr>\n",
       "      <th>2044802</th>\n",
       "      <td>224428.0</td>\n",
       "      <td>Tools Product Type</td>\n",
       "      <td>Power Tool</td>\n",
       "    </tr>\n",
       "  </tbody>\n",
       "</table>\n",
       "</div>"
      ],
      "text/plain": [
       "         product_uid                     name                value\n",
       "2044798     224428.0       Pilot Bit Included                   No\n",
       "2044799     224428.0  Power Tool Product Type  Drill & Router Bits\n",
       "2044800     224428.0           Shank Diameter               3/8 in\n",
       "2044801     224428.0              Shank Style                  Hex\n",
       "2044802     224428.0       Tools Product Type           Power Tool"
      ]
     },
     "execution_count": 7,
     "metadata": {},
     "output_type": "execute_result"
    }
   ],
   "source": [
    "attributes.tail()"
   ]
  },
  {
   "cell_type": "code",
   "execution_count": 8,
   "id": "736c003f",
   "metadata": {
    "id": "736c003f"
   },
   "outputs": [],
   "source": [
    "product_descriptions = pd.read_csv(\"product_descriptions.csv\")"
   ]
  },
  {
   "cell_type": "code",
   "execution_count": 9,
   "id": "42da7f10",
   "metadata": {
    "id": "42da7f10"
   },
   "outputs": [],
   "source": [
    "product_descriptions.set_index(\"product_uid\",inplace=True)"
   ]
  },
  {
   "cell_type": "code",
   "execution_count": 10,
   "id": "52fc7d7c",
   "metadata": {
    "colab": {
     "base_uri": "https://localhost:8080/",
     "height": 238
    },
    "id": "52fc7d7c",
    "outputId": "c7c278c2-040d-41a3-aeb2-5a32c743d41d"
   },
   "outputs": [
    {
     "data": {
      "text/html": [
       "<div>\n",
       "<style scoped>\n",
       "    .dataframe tbody tr th:only-of-type {\n",
       "        vertical-align: middle;\n",
       "    }\n",
       "\n",
       "    .dataframe tbody tr th {\n",
       "        vertical-align: top;\n",
       "    }\n",
       "\n",
       "    .dataframe thead th {\n",
       "        text-align: right;\n",
       "    }\n",
       "</style>\n",
       "<table border=\"1\" class=\"dataframe\">\n",
       "  <thead>\n",
       "    <tr style=\"text-align: right;\">\n",
       "      <th></th>\n",
       "      <th>product_description</th>\n",
       "    </tr>\n",
       "    <tr>\n",
       "      <th>product_uid</th>\n",
       "      <th></th>\n",
       "    </tr>\n",
       "  </thead>\n",
       "  <tbody>\n",
       "    <tr>\n",
       "      <th>100001</th>\n",
       "      <td>Not only do angles make joints stronger, they ...</td>\n",
       "    </tr>\n",
       "    <tr>\n",
       "      <th>100002</th>\n",
       "      <td>BEHR Premium Textured DECKOVER is an innovativ...</td>\n",
       "    </tr>\n",
       "    <tr>\n",
       "      <th>100003</th>\n",
       "      <td>Classic architecture meets contemporary design...</td>\n",
       "    </tr>\n",
       "    <tr>\n",
       "      <th>100004</th>\n",
       "      <td>The Grape Solar 265-Watt Polycrystalline PV So...</td>\n",
       "    </tr>\n",
       "    <tr>\n",
       "      <th>100005</th>\n",
       "      <td>Update your bathroom with the Delta Vero Singl...</td>\n",
       "    </tr>\n",
       "  </tbody>\n",
       "</table>\n",
       "</div>"
      ],
      "text/plain": [
       "                                           product_description\n",
       "product_uid                                                   \n",
       "100001       Not only do angles make joints stronger, they ...\n",
       "100002       BEHR Premium Textured DECKOVER is an innovativ...\n",
       "100003       Classic architecture meets contemporary design...\n",
       "100004       The Grape Solar 265-Watt Polycrystalline PV So...\n",
       "100005       Update your bathroom with the Delta Vero Singl..."
      ]
     },
     "execution_count": 10,
     "metadata": {},
     "output_type": "execute_result"
    }
   ],
   "source": [
    "product_descriptions.head()"
   ]
  },
  {
   "cell_type": "code",
   "execution_count": 11,
   "id": "d10ea76a",
   "metadata": {
    "id": "d10ea76a"
   },
   "outputs": [],
   "source": [
    "# using the code I had written in assignment 1. \n",
    "\n",
    "import re\n",
    "import string\n",
    "\n",
    "class Preprocesser(object):\n",
    "    def __init__(self, punctuation=True, url=True):\n",
    "        self.punctuation = punctuation\n",
    "        self.url = url\n",
    "    \n",
    "    def apply(self, text):\n",
    "        \n",
    "        text = self._lowercase(text)\n",
    "        \n",
    "        if self.url:\n",
    "            text = self._remove_url(text)\n",
    "            \n",
    "        if self.punctuation:\n",
    "            text = self._remove_punctuation(text)\n",
    "            \n",
    "        text = re.sub(r'\\s+', ' ', text).strip()\n",
    "        \n",
    "        return text\n",
    "        \n",
    "    def _remove_punctuation(self, text):\n",
    "                \n",
    "        for c in string.punctuation:\n",
    "            text = re.sub(f\"\\{c}\",\" \",text)\n",
    "        \n",
    "        return text\n",
    "    \n",
    "    def _remove_url(self, text):\n",
    "        text = re.sub(r'http\\S+',\"\",text)\n",
    "        return text\n",
    "    \n",
    "    def _lowercase(self, text):\n",
    "        return text.lower()"
   ]
  },
  {
   "cell_type": "code",
   "execution_count": 12,
   "id": "37676c05",
   "metadata": {
    "colab": {
     "base_uri": "https://localhost:8080/"
    },
    "id": "37676c05",
    "outputId": "cacf22bc-9ce2-4029-84b1-ba27c6123d53"
   },
   "outputs": [
    {
     "name": "stdout",
     "output_type": "stream",
     "text": [
      "[nltk_data] Downloading package stopwords to /root/nltk_data...\n",
      "[nltk_data]   Unzipping corpora/stopwords.zip.\n"
     ]
    }
   ],
   "source": [
    "import nltk\n",
    "from nltk.corpus import stopwords\n",
    "nltk.download('stopwords')\n",
    "wordsToRemove = set(stopwords.words('english'))"
   ]
  },
  {
   "cell_type": "code",
   "execution_count": 13,
   "id": "28d94ec8",
   "metadata": {
    "id": "28d94ec8"
   },
   "outputs": [],
   "source": [
    "from nltk.stem import WordNetLemmatizer\n",
    "lemmatizer = WordNetLemmatizer()"
   ]
  },
  {
   "cell_type": "code",
   "execution_count": 14,
   "id": "73693027",
   "metadata": {
    "id": "73693027"
   },
   "outputs": [],
   "source": [
    "\n",
    "def tokenize(text):\n",
    "    return [lemmatizer.lemmatize(x) for x in text.split(\" \") if x not in wordsToRemove]"
   ]
  },
  {
   "cell_type": "code",
   "execution_count": 15,
   "id": "873df1ec",
   "metadata": {
    "id": "873df1ec"
   },
   "outputs": [],
   "source": [
    "preprocesser = Preprocesser()"
   ]
  },
  {
   "cell_type": "code",
   "execution_count": 16,
   "id": "bc131c38",
   "metadata": {
    "id": "bc131c38"
   },
   "outputs": [],
   "source": [
    "df[\"preprocessed_title\"] = df[\"product_title\"].astype(str).apply(lambda x: preprocesser.apply(x)).apply(lambda x : tokenize(x))"
   ]
  },
  {
   "cell_type": "code",
   "execution_count": 17,
   "id": "61c18dc6",
   "metadata": {
    "id": "61c18dc6"
   },
   "outputs": [],
   "source": [
    "df[\"product_description\"] = df[\"product_uid\"].astype(int).apply(lambda x: product_descriptions.loc[x].product_description)"
   ]
  },
  {
   "cell_type": "code",
   "execution_count": 18,
   "id": "79d93ae4",
   "metadata": {
    "id": "79d93ae4"
   },
   "outputs": [],
   "source": [
    "df[\"preprocessed_description\"] = df[\"product_description\"].astype(str).apply(lambda x: preprocesser.apply(x)).apply(lambda x : tokenize(x))\n"
   ]
  },
  {
   "cell_type": "code",
   "execution_count": 19,
   "id": "7ee3c8fe",
   "metadata": {
    "id": "7ee3c8fe"
   },
   "outputs": [],
   "source": [
    "def getAttributes(product_id):\n",
    "    \n",
    "    temp = attributes[attributes[\"product_uid\"]==product_id][[\"name\",\"value\"]]\n",
    "        \n",
    "    answer = temp.apply(lambda x : f'{x[\"name\"]} {x[\"value\"]}',axis=1)\n",
    "    \n",
    "    result = \" \".join(answer.values.tolist())\n",
    "    \n",
    "    return  result\n",
    "\n",
    "\n",
    "df[\"product_attributes\"] =  df[\"product_uid\"].astype(int).apply(lambda x: getAttributes(x))"
   ]
  },
  {
   "cell_type": "code",
   "execution_count": 20,
   "id": "a085853e",
   "metadata": {
    "colab": {
     "base_uri": "https://localhost:8080/",
     "height": 452
    },
    "id": "a085853e",
    "outputId": "802272c3-2dfb-4c8b-d50b-c4565ac1c15f"
   },
   "outputs": [
    {
     "data": {
      "text/html": [
       "<div>\n",
       "<style scoped>\n",
       "    .dataframe tbody tr th:only-of-type {\n",
       "        vertical-align: middle;\n",
       "    }\n",
       "\n",
       "    .dataframe tbody tr th {\n",
       "        vertical-align: top;\n",
       "    }\n",
       "\n",
       "    .dataframe thead th {\n",
       "        text-align: right;\n",
       "    }\n",
       "</style>\n",
       "<table border=\"1\" class=\"dataframe\">\n",
       "  <thead>\n",
       "    <tr style=\"text-align: right;\">\n",
       "      <th></th>\n",
       "      <th>id</th>\n",
       "      <th>product_uid</th>\n",
       "      <th>product_title</th>\n",
       "      <th>search_term</th>\n",
       "      <th>relevance</th>\n",
       "      <th>preprocessed_title</th>\n",
       "      <th>product_description</th>\n",
       "      <th>preprocessed_description</th>\n",
       "      <th>product_attributes</th>\n",
       "    </tr>\n",
       "  </thead>\n",
       "  <tbody>\n",
       "    <tr>\n",
       "      <th>0</th>\n",
       "      <td>2</td>\n",
       "      <td>100001</td>\n",
       "      <td>Simpson Strong-Tie 12-Gauge Angle</td>\n",
       "      <td>angle bracket</td>\n",
       "      <td>3.00</td>\n",
       "      <td>[simpson, strong, tie, 12, gauge, angle]</td>\n",
       "      <td>Not only do angles make joints stronger, they ...</td>\n",
       "      <td>[angle, make, joint, stronger, also, provide, ...</td>\n",
       "      <td>Bullet01 Versatile connector for various 90° c...</td>\n",
       "    </tr>\n",
       "    <tr>\n",
       "      <th>1</th>\n",
       "      <td>3</td>\n",
       "      <td>100001</td>\n",
       "      <td>Simpson Strong-Tie 12-Gauge Angle</td>\n",
       "      <td>l bracket</td>\n",
       "      <td>2.50</td>\n",
       "      <td>[simpson, strong, tie, 12, gauge, angle]</td>\n",
       "      <td>Not only do angles make joints stronger, they ...</td>\n",
       "      <td>[angle, make, joint, stronger, also, provide, ...</td>\n",
       "      <td>Bullet01 Versatile connector for various 90° c...</td>\n",
       "    </tr>\n",
       "    <tr>\n",
       "      <th>2</th>\n",
       "      <td>9</td>\n",
       "      <td>100002</td>\n",
       "      <td>BEHR Premium Textured DeckOver 1-gal. #SC-141 ...</td>\n",
       "      <td>deck over</td>\n",
       "      <td>3.00</td>\n",
       "      <td>[behr, premium, textured, deckover, 1, gal, sc...</td>\n",
       "      <td>BEHR Premium Textured DECKOVER is an innovativ...</td>\n",
       "      <td>[behr, premium, textured, deckover, innovative...</td>\n",
       "      <td>Application Method Brush,Roller,Spray Assemble...</td>\n",
       "    </tr>\n",
       "    <tr>\n",
       "      <th>3</th>\n",
       "      <td>16</td>\n",
       "      <td>100005</td>\n",
       "      <td>Delta Vero 1-Handle Shower Only Faucet Trim Ki...</td>\n",
       "      <td>rain shower head</td>\n",
       "      <td>2.33</td>\n",
       "      <td>[delta, vero, 1, handle, shower, faucet, trim,...</td>\n",
       "      <td>Update your bathroom with the Delta Vero Singl...</td>\n",
       "      <td>[update, bathroom, delta, vero, single, handle...</td>\n",
       "      <td>Bath Faucet Type Combo Tub and Shower Built-in...</td>\n",
       "    </tr>\n",
       "    <tr>\n",
       "      <th>4</th>\n",
       "      <td>17</td>\n",
       "      <td>100005</td>\n",
       "      <td>Delta Vero 1-Handle Shower Only Faucet Trim Ki...</td>\n",
       "      <td>shower only faucet</td>\n",
       "      <td>2.67</td>\n",
       "      <td>[delta, vero, 1, handle, shower, faucet, trim,...</td>\n",
       "      <td>Update your bathroom with the Delta Vero Singl...</td>\n",
       "      <td>[update, bathroom, delta, vero, single, handle...</td>\n",
       "      <td>Bath Faucet Type Combo Tub and Shower Built-in...</td>\n",
       "    </tr>\n",
       "  </tbody>\n",
       "</table>\n",
       "</div>"
      ],
      "text/plain": [
       "   id  ...                                 product_attributes\n",
       "0   2  ...  Bullet01 Versatile connector for various 90° c...\n",
       "1   3  ...  Bullet01 Versatile connector for various 90° c...\n",
       "2   9  ...  Application Method Brush,Roller,Spray Assemble...\n",
       "3  16  ...  Bath Faucet Type Combo Tub and Shower Built-in...\n",
       "4  17  ...  Bath Faucet Type Combo Tub and Shower Built-in...\n",
       "\n",
       "[5 rows x 9 columns]"
      ]
     },
     "execution_count": 20,
     "metadata": {},
     "output_type": "execute_result"
    }
   ],
   "source": [
    "df.head()"
   ]
  },
  {
   "cell_type": "code",
   "execution_count": 21,
   "id": "ed768020",
   "metadata": {
    "id": "ed768020"
   },
   "outputs": [],
   "source": [
    "df.to_csv(\"prepared_data.csv\",index=False)"
   ]
  },
  {
   "cell_type": "code",
   "execution_count": 22,
   "id": "3d4d28fb",
   "metadata": {
    "colab": {
     "base_uri": "https://localhost:8080/",
     "height": 403
    },
    "id": "3d4d28fb",
    "outputId": "af3c6d68-7b7a-475b-a296-48acde05393b"
   },
   "outputs": [
    {
     "data": {
      "text/html": [
       "<div>\n",
       "<style scoped>\n",
       "    .dataframe tbody tr th:only-of-type {\n",
       "        vertical-align: middle;\n",
       "    }\n",
       "\n",
       "    .dataframe tbody tr th {\n",
       "        vertical-align: top;\n",
       "    }\n",
       "\n",
       "    .dataframe thead th {\n",
       "        text-align: right;\n",
       "    }\n",
       "</style>\n",
       "<table border=\"1\" class=\"dataframe\">\n",
       "  <thead>\n",
       "    <tr style=\"text-align: right;\">\n",
       "      <th></th>\n",
       "      <th>id</th>\n",
       "      <th>product_uid</th>\n",
       "      <th>product_title</th>\n",
       "      <th>search_term</th>\n",
       "      <th>relevance</th>\n",
       "      <th>preprocessed_title</th>\n",
       "      <th>product_description</th>\n",
       "      <th>preprocessed_description</th>\n",
       "      <th>product_attributes</th>\n",
       "    </tr>\n",
       "  </thead>\n",
       "  <tbody>\n",
       "    <tr>\n",
       "      <th>74063</th>\n",
       "      <td>221458</td>\n",
       "      <td>206639</td>\n",
       "      <td>Philips 40-Watt Halogen R20 Flood Light Bulb (...</td>\n",
       "      <td>r20 halogen light</td>\n",
       "      <td>3.00</td>\n",
       "      <td>[philip, 40, watt, halogen, r20, flood, light,...</td>\n",
       "      <td>Philips Energy Advantage lamps use less energy...</td>\n",
       "      <td>[philip, energy, advantage, lamp, use, le, ene...</td>\n",
       "      <td>Actual Color Temperature (K) 2700 Average Life...</td>\n",
       "    </tr>\n",
       "    <tr>\n",
       "      <th>74064</th>\n",
       "      <td>221463</td>\n",
       "      <td>206641</td>\n",
       "      <td>Schlage Camelot In-Active Aged Bronze Handlese...</td>\n",
       "      <td>schlage lock siena half dummy knob with</td>\n",
       "      <td>2.33</td>\n",
       "      <td>[schlage, camelot, active, aged, bronze, handl...</td>\n",
       "      <td>The Schlage Camelot In-Active Aged Bronze Hand...</td>\n",
       "      <td>[schlage, camelot, active, aged, bronze, handl...</td>\n",
       "      <td>Application Type Entry Assembled Depth (in.) 2...</td>\n",
       "    </tr>\n",
       "    <tr>\n",
       "      <th>74065</th>\n",
       "      <td>221471</td>\n",
       "      <td>206648</td>\n",
       "      <td>Plastec 11 in. x 24 in. Rose Garden Wall Decor...</td>\n",
       "      <td>zen garden  decor</td>\n",
       "      <td>3.00</td>\n",
       "      <td>[plastec, 11, x, 24, rose, garden, wall, decor...</td>\n",
       "      <td>The Rose Garden is inspired by the popular ear...</td>\n",
       "      <td>[rose, garden, inspired, popular, early, 20th,...</td>\n",
       "      <td>Bullet01 Indoor and outdoor use Bullet02 Finis...</td>\n",
       "    </tr>\n",
       "    <tr>\n",
       "      <th>74066</th>\n",
       "      <td>221473</td>\n",
       "      <td>206650</td>\n",
       "      <td>LICHTENBERG Pool Blue No. 918 Millennial Ryan ...</td>\n",
       "      <td>fine sheer curtain 63 inches</td>\n",
       "      <td>2.33</td>\n",
       "      <td>[lichtenberg, pool, blue, 918, millennial, rya...</td>\n",
       "      <td>No. 918 Millennial Ryan heathered texture semi...</td>\n",
       "      <td>[918, millennial, ryan, heathered, texture, se...</td>\n",
       "      <td>Assembled Depth (in.) .1 in Assembled Height (...</td>\n",
       "    </tr>\n",
       "  </tbody>\n",
       "</table>\n",
       "</div>"
      ],
      "text/plain": [
       "           id  ...                                 product_attributes\n",
       "74063  221458  ...  Actual Color Temperature (K) 2700 Average Life...\n",
       "74064  221463  ...  Application Type Entry Assembled Depth (in.) 2...\n",
       "74065  221471  ...  Bullet01 Indoor and outdoor use Bullet02 Finis...\n",
       "74066  221473  ...  Assembled Depth (in.) .1 in Assembled Height (...\n",
       "\n",
       "[4 rows x 9 columns]"
      ]
     },
     "execution_count": 22,
     "metadata": {},
     "output_type": "execute_result"
    }
   ],
   "source": [
    "df.tail(4)"
   ]
  },
  {
   "cell_type": "code",
   "execution_count": 23,
   "id": "89ab80e8",
   "metadata": {
    "id": "89ab80e8"
   },
   "outputs": [],
   "source": [
    "df[\"preprocessed_title\"] = df[\"preprocessed_title\"].apply(lambda x: \" \".join(x))\n",
    "df[\"preprocessed_description\"] = df[\"preprocessed_description\"].apply(lambda x: \" \".join(x))"
   ]
  },
  {
   "cell_type": "code",
   "execution_count": 24,
   "id": "K0ki0D_dHsb_",
   "metadata": {
    "id": "K0ki0D_dHsb_"
   },
   "outputs": [],
   "source": [
    "df[\"preprocessed_attributes\"] = df[\"product_attributes\"].apply(lambda x: preprocesser.apply(x))"
   ]
  },
  {
   "cell_type": "code",
   "execution_count": 25,
   "id": "e4c0d6d7",
   "metadata": {
    "id": "e4c0d6d7"
   },
   "outputs": [],
   "source": [
    "from sklearn.model_selection import train_test_split"
   ]
  },
  {
   "cell_type": "code",
   "execution_count": 26,
   "id": "c871b583",
   "metadata": {
    "id": "c871b583"
   },
   "outputs": [],
   "source": [
    "train, test = train_test_split(df,test_size=0.2) "
   ]
  },
  {
   "cell_type": "code",
   "execution_count": 27,
   "id": "0edb1bb7",
   "metadata": {
    "id": "0edb1bb7"
   },
   "outputs": [],
   "source": [
    "train, cv = train_test_split(train,test_size=0.2)"
   ]
  },
  {
   "cell_type": "code",
   "execution_count": 28,
   "id": "AIYq_4Anc7sp",
   "metadata": {
    "colab": {
     "base_uri": "https://localhost:8080/"
    },
    "id": "AIYq_4Anc7sp",
    "outputId": "5dd44af5-1250-4d07-c714-1bc0cc37ece2"
   },
   "outputs": [
    {
     "data": {
      "text/plain": [
       "((47402, 10), (11851, 10), (14814, 10))"
      ]
     },
     "execution_count": 28,
     "metadata": {},
     "output_type": "execute_result"
    }
   ],
   "source": [
    "train.shape, cv.shape, test.shape"
   ]
  },
  {
   "cell_type": "markdown",
   "id": "313af5df",
   "metadata": {
    "id": "313af5df"
   },
   "source": [
    "#  Encoding"
   ]
  },
  {
   "cell_type": "code",
   "execution_count": 77,
   "id": "0c1604b1",
   "metadata": {
    "id": "0c1604b1"
   },
   "outputs": [],
   "source": [
    "from tensorflow.keras.preprocessing.text import Tokenizer\n",
    "title_encoder = Tokenizer(oov_token=\"<ukn>\")\n",
    "title_encoder.fit_on_texts(train[\"preprocessed_title\"].values)\n",
    "train_titles = title_encoder.texts_to_sequences(train[\"preprocessed_title\"].values)\n",
    "cv_titles = title_encoder.texts_to_sequences(cv[\"preprocessed_title\"].values)\n",
    "test_titles = title_encoder.texts_to_sequences(test[\"preprocessed_title\"].values)"
   ]
  },
  {
   "cell_type": "code",
   "execution_count": 78,
   "id": "CLrkASESLDsa",
   "metadata": {
    "id": "CLrkASESLDsa"
   },
   "outputs": [],
   "source": [
    "description_encoder = Tokenizer(oov_token=\"<ukn>\",num_words=10000)\n",
    "description_encoder.fit_on_texts(train[\"preprocessed_description\"].values)\n",
    "train_description = description_encoder.texts_to_sequences(train[\"preprocessed_description\"].values)\n",
    "cv_description = description_encoder.texts_to_sequences(cv[\"preprocessed_description\"].values)\n",
    "test_description = description_encoder.texts_to_sequences(test[\"preprocessed_description\"].values)"
   ]
  },
  {
   "cell_type": "code",
   "execution_count": 79,
   "id": "glT12csKLQ7O",
   "metadata": {
    "id": "glT12csKLQ7O"
   },
   "outputs": [],
   "source": [
    "attribute_encoder = Tokenizer(oov_token=\"<ukn>\",num_words=10000)\n",
    "attribute_encoder.fit_on_texts(train[\"preprocessed_attributes\"].values)\n",
    "train_attribute = attribute_encoder.texts_to_sequences(train[\"preprocessed_attributes\"].values)\n",
    "cv_attribute = attribute_encoder.texts_to_sequences(cv[\"preprocessed_attributes\"].values)\n",
    "test_attribute = attribute_encoder.texts_to_sequences(test[\"preprocessed_attributes\"].values)"
   ]
  },
  {
   "cell_type": "code",
   "execution_count": 80,
   "id": "sH8JrJxUL_1p",
   "metadata": {
    "id": "sH8JrJxUL_1p"
   },
   "outputs": [],
   "source": [
    "search_term_encoder = Tokenizer(oov_token=\"<ukn>\")\n",
    "search_term_encoder.fit_on_texts(train[\"search_term\"].values)\n",
    "train_search_term = search_term_encoder.texts_to_sequences(train[\"search_term\"].values)\n",
    "cv_search_term = search_term_encoder.texts_to_sequences(cv[\"search_term\"].values)\n",
    "test_search_term = search_term_encoder.texts_to_sequences(test[\"search_term\"].values)"
   ]
  },
  {
   "cell_type": "code",
   "execution_count": 81,
   "id": "my-NQY9xvP0x",
   "metadata": {
    "id": "my-NQY9xvP0x"
   },
   "outputs": [],
   "source": [
    "max_length_of_titles =  max([len(x) for x in train_titles])\n",
    "length_of_descr = np.sort([len(x) for x in  train_description])\n",
    "length_of_attribute = np.sort([len(x) for x in train_attribute])"
   ]
  },
  {
   "cell_type": "code",
   "execution_count": 82,
   "id": "Cd8wF0ltwDzV",
   "metadata": {
    "colab": {
     "base_uri": "https://localhost:8080/"
    },
    "id": "Cd8wF0ltwDzV",
    "outputId": "0a9f6f7f-2228-4d80-e8a3-e823d5ae1602"
   },
   "outputs": [
    {
     "data": {
      "text/plain": [
       "34"
      ]
     },
     "execution_count": 82,
     "metadata": {},
     "output_type": "execute_result"
    }
   ],
   "source": [
    "max_length_of_titles"
   ]
  },
  {
   "cell_type": "code",
   "execution_count": 83,
   "id": "hSSovL4nw29Y",
   "metadata": {
    "colab": {
     "base_uri": "https://localhost:8080/",
     "height": 296
    },
    "id": "hSSovL4nw29Y",
    "outputId": "ce9006a7-071d-4fcf-9199-8bb577306f0a"
   },
   "outputs": [
    {
     "data": {
      "text/plain": [
       "<matplotlib.legend.Legend at 0x7fae401fee10>"
      ]
     },
     "execution_count": 83,
     "metadata": {},
     "output_type": "execute_result"
    },
    {
     "data": {
      "image/png": "[encoded data removed]",
      "text/plain": [
       "<Figure size 432x288 with 1 Axes>"
      ]
     },
     "metadata": {
      "needs_background": "light"
     },
     "output_type": "display_data"
    }
   ],
   "source": [
    "plt.plot(length_of_descr,range(len(length_of_descr)),\"go\")\n",
    "plt.plot(length_of_attribute,range(len(length_of_attribute)),\"rs\")\n",
    "plt.xlabel(\"length of text\")\n",
    "plt.ylabel(\"number of data points\")\n",
    "plt.legend([\"description\",\"attributes\"])"
   ]
  },
  {
   "cell_type": "code",
   "execution_count": 84,
   "id": "gkrBvUcbzjOr",
   "metadata": {
    "colab": {
     "base_uri": "https://localhost:8080/"
    },
    "id": "gkrBvUcbzjOr",
    "outputId": "988f183d-1fcd-44c2-a470-ddba9a46c0fd"
   },
   "outputs": [
    {
     "data": {
      "text/plain": [
       "17"
      ]
     },
     "execution_count": 84,
     "metadata": {},
     "output_type": "execute_result"
    }
   ],
   "source": [
    "max_length_of_search_term =  max([len(x) for x in train_search_term])\n",
    "max_length_of_search_term"
   ]
  },
  {
   "cell_type": "code",
   "execution_count": 85,
   "id": "U9dBkif8u6XU",
   "metadata": {
    "id": "U9dBkif8u6XU"
   },
   "outputs": [],
   "source": [
    "from tensorflow.keras.preprocessing.sequence import pad_sequences\n",
    "\n",
    "train_titles = pad_sequences(train_titles,maxlen=max_length_of_titles)\n",
    "cv_titles = pad_sequences(cv_titles,maxlen=max_length_of_titles)\n",
    "test_titles = pad_sequences(test_titles,maxlen=max_length_of_titles)\n",
    "\n",
    "train_description = pad_sequences(train_description,maxlen=200,truncating=\"post\")\n",
    "cv_description = pad_sequences(cv_description,maxlen=200,truncating=\"post\")\n",
    "test_description = pad_sequences(test_description,maxlen=200,truncating=\"post\")\n",
    "\n",
    "train_attribute = pad_sequences(train_attribute,maxlen=200,truncating=\"post\")\n",
    "cv_attribute = pad_sequences(cv_attribute,maxlen=200,truncating=\"post\")\n",
    "test_attribute = pad_sequences(test_attribute,maxlen=200,truncating=\"post\")\n",
    "\n",
    "train_search_term = pad_sequences(train_search_term,maxlen=max_length_of_search_term)\n",
    "cv_search_term = pad_sequences(cv_search_term,maxlen=max_length_of_search_term)\n",
    "test_search_term = pad_sequences(test_search_term,maxlen=max_length_of_search_term)"
   ]
  },
  {
   "cell_type": "code",
   "execution_count": 86,
   "id": "UFuasOlz0khy",
   "metadata": {
    "id": "UFuasOlz0khy"
   },
   "outputs": [],
   "source": [
    "title_vocab_len = len(title_encoder.word_index)\n",
    "descr_vocab_len = len(description_encoder.word_index)\n",
    "attr_vocab_len = len(attribute_encoder.word_index)\n",
    "search_vocab_len = len(search_term_encoder.word_index)"
   ]
  },
  {
   "cell_type": "markdown",
   "id": "FEmBUpKO5IIE",
   "metadata": {
    "id": "FEmBUpKO5IIE"
   },
   "source": [
    "# Modeling"
   ]
  },
  {
   "cell_type": "code",
   "execution_count": 87,
   "id": "Qpumh-EBNqru",
   "metadata": {
    "id": "Qpumh-EBNqru"
   },
   "outputs": [],
   "source": [
    "from keras import  backend\n",
    "backend.clear_session()"
   ]
  },
  {
   "cell_type": "code",
   "execution_count": 88,
   "id": "hqgG7jCaIzP7",
   "metadata": {
    "id": "hqgG7jCaIzP7"
   },
   "outputs": [],
   "source": [
    "from keras.layers import Bidirectional,LSTM,Dense, Input, Embedding, concatenate, Dot\n",
    "from keras.models import Model\n",
    "from tensorflow.keras.optimizers import Adam\n",
    "from sklearn.metrics import mean_squared_error, median_absolute_error\n",
    "from keras.callbacks import  EarlyStopping\n",
    "from keras.metrics import RootMeanSquaredError"
   ]
  },
  {
   "cell_type": "markdown",
   "id": "IdXwMlaQKglH",
   "metadata": {
    "id": "IdXwMlaQKglH"
   },
   "source": [
    "### Bidirectional LSTM"
   ]
  },
  {
   "cell_type": "code",
   "execution_count": 89,
   "id": "R_aH9Ed3O1IX",
   "metadata": {
    "id": "R_aH9Ed3O1IX"
   },
   "outputs": [],
   "source": [
    "title_input = Input(shape=(max_length_of_titles))\n",
    "embedding_layer = Embedding(title_vocab_len+1,50,input_length=max_length_of_titles)\n",
    "emb_vecs = embedding_layer(title_input)\n",
    "lstm_1 = Bidirectional(LSTM(100,return_sequences=True))(emb_vecs)\n",
    "title_output = Bidirectional(LSTM(100))(lstm_1)"
   ]
  },
  {
   "cell_type": "code",
   "execution_count": 90,
   "id": "BZFqYuzW2oXB",
   "metadata": {
    "id": "BZFqYuzW2oXB"
   },
   "outputs": [],
   "source": [
    "description_input = Input(shape=(200))\n",
    "embedding_layer = Embedding(descr_vocab_len+1,100,input_length=200)\n",
    "emb_vecs = embedding_layer(description_input)\n",
    "lstm_1 = Bidirectional(LSTM(100,return_sequences=True))(emb_vecs)\n",
    "description_output = Bidirectional(LSTM(100))(lstm_1)"
   ]
  },
  {
   "cell_type": "code",
   "execution_count": 91,
   "id": "05BNcdHp3cPD",
   "metadata": {
    "id": "05BNcdHp3cPD"
   },
   "outputs": [],
   "source": [
    "attribute_input = Input(shape=(200))\n",
    "embedding_layer = Embedding(attr_vocab_len+1,100,input_length=200)\n",
    "emb_vecs = embedding_layer(attribute_input)\n",
    "lstm_1 = Bidirectional(LSTM(100,return_sequences=True))(emb_vecs)\n",
    "attribute_output = Bidirectional(LSTM(100))(lstm_1)"
   ]
  },
  {
   "cell_type": "code",
   "execution_count": 92,
   "id": "2linFuLk5MjI",
   "metadata": {
    "id": "2linFuLk5MjI"
   },
   "outputs": [],
   "source": [
    "search_term_input = Input(shape=(max_length_of_search_term))\n",
    "embedding_layer = Embedding(search_vocab_len+1,100,input_length=max_length_of_search_term)\n",
    "emb_vecs = embedding_layer(search_term_input)\n",
    "search_term_output = Bidirectional(LSTM(100))(emb_vecs)"
   ]
  },
  {
   "cell_type": "code",
   "execution_count": 93,
   "id": "np92X1YuMRw6",
   "metadata": {
    "id": "np92X1YuMRw6"
   },
   "outputs": [],
   "source": [
    "cosine_similarity1 = Dot(axes=-1,normalize=True)([title_output,search_term_output])\n",
    "cosine_similarity2 = Dot(axes=-1,normalize=True)([description_output,search_term_output])\n",
    "cosine_similarity3 = Dot(axes=-1,normalize=True)([attribute_output,search_term_output])"
   ]
  },
  {
   "cell_type": "code",
   "execution_count": 94,
   "id": "xR8dFG-gJXSV",
   "metadata": {
    "id": "xR8dFG-gJXSV"
   },
   "outputs": [],
   "source": [
    "concat_inputs = concatenate([cosine_similarity1,cosine_similarity2,cosine_similarity2])\n",
    "all_inputs = Dense(10,activation=\"relu\")(concat_inputs)"
   ]
  },
  {
   "cell_type": "code",
   "execution_count": 95,
   "id": "pKcrJFbOJYwf",
   "metadata": {
    "id": "pKcrJFbOJYwf"
   },
   "outputs": [],
   "source": [
    "output_layer = Dense(1,activation=\"linear\")(all_inputs)"
   ]
  },
  {
   "cell_type": "code",
   "execution_count": 96,
   "id": "y4Q7a9L1MuaB",
   "metadata": {
    "id": "y4Q7a9L1MuaB"
   },
   "outputs": [],
   "source": [
    "model = Model(inputs=[title_input,description_input,attribute_input,search_term_input], outputs=output_layer)"
   ]
  },
  {
   "cell_type": "code",
   "execution_count": 97,
   "id": "ENDTqGgvNXrD",
   "metadata": {
    "colab": {
     "base_uri": "https://localhost:8080/"
    },
    "id": "ENDTqGgvNXrD",
    "outputId": "15f2b451-7192-4c05-fa79-ce81160aaf98"
   },
   "outputs": [
    {
     "name": "stdout",
     "output_type": "stream",
     "text": [
      "Model: \"model\"\n",
      "__________________________________________________________________________________________________\n",
      " Layer (type)                   Output Shape         Param #     Connected to                     \n",
      "==================================================================================================\n",
      " input_1 (InputLayer)           [(None, 34)]         0           []                               \n",
      "                                                                                                  \n",
      " input_2 (InputLayer)           [(None, 200)]        0           []                               \n",
      "                                                                                                  \n",
      " embedding (Embedding)          (None, 34, 50)       757850      ['input_1[0][0]']                \n",
      "                                                                                                  \n",
      " input_4 (InputLayer)           [(None, 17)]         0           []                               \n",
      "                                                                                                  \n",
      " embedding_1 (Embedding)        (None, 200, 100)     13198200    ['input_2[0][0]']                \n",
      "                                                                                                  \n",
      " bidirectional (Bidirectional)  (None, 34, 200)      120800      ['embedding[0][0]']              \n",
      "                                                                                                  \n",
      " embedding_3 (Embedding)        (None, 17, 100)      759300      ['input_4[0][0]']                \n",
      "                                                                                                  \n",
      " bidirectional_2 (Bidirectional  (None, 200, 200)    160800      ['embedding_1[0][0]']            \n",
      " )                                                                                                \n",
      "                                                                                                  \n",
      " bidirectional_1 (Bidirectional  (None, 200)         240800      ['bidirectional[0][0]']          \n",
      " )                                                                                                \n",
      "                                                                                                  \n",
      " bidirectional_6 (Bidirectional  (None, 200)         160800      ['embedding_3[0][0]']            \n",
      " )                                                                                                \n",
      "                                                                                                  \n",
      " bidirectional_3 (Bidirectional  (None, 200)         240800      ['bidirectional_2[0][0]']        \n",
      " )                                                                                                \n",
      "                                                                                                  \n",
      " dot (Dot)                      (None, 1)            0           ['bidirectional_1[0][0]',        \n",
      "                                                                  'bidirectional_6[0][0]']        \n",
      "                                                                                                  \n",
      " dot_1 (Dot)                    (None, 1)            0           ['bidirectional_3[0][0]',        \n",
      "                                                                  'bidirectional_6[0][0]']        \n",
      "                                                                                                  \n",
      " concatenate (Concatenate)      (None, 3)            0           ['dot[0][0]',                    \n",
      "                                                                  'dot_1[0][0]',                  \n",
      "                                                                  'dot_1[0][0]']                  \n",
      "                                                                                                  \n",
      " dense (Dense)                  (None, 10)           40          ['concatenate[0][0]']            \n",
      "                                                                                                  \n",
      " input_3 (InputLayer)           [(None, 200)]        0           []                               \n",
      "                                                                                                  \n",
      " dense_1 (Dense)                (None, 1)            11          ['dense[0][0]']                  \n",
      "                                                                                                  \n",
      "==================================================================================================\n",
      "Total params: 15,639,401\n",
      "Trainable params: 15,639,401\n",
      "Non-trainable params: 0\n",
      "__________________________________________________________________________________________________\n"
     ]
    }
   ],
   "source": [
    "model.summary()"
   ]
  },
  {
   "cell_type": "code",
   "execution_count": 98,
   "id": "805EIm0LPgqs",
   "metadata": {
    "id": "805EIm0LPgqs"
   },
   "outputs": [],
   "source": [
    "model.compile(\n",
    "    optimizer=Adam(learning_rate=0.001),\n",
    "    loss='mse',\n",
    "    metrics=[RootMeanSquaredError()])"
   ]
  },
  {
   "cell_type": "code",
   "execution_count": 99,
   "id": "hGJ1n1k--hNK",
   "metadata": {
    "id": "hGJ1n1k--hNK"
   },
   "outputs": [],
   "source": [
    "y_train = train[\"relevance\"].values.reshape(-1,1)\n",
    "y_cv = cv[\"relevance\"].values.reshape(-1,1)\n",
    "y_test = test[\"relevance\"].values.reshape(-1,1)"
   ]
  },
  {
   "cell_type": "code",
   "execution_count": 100,
   "id": "THOGWJq3PdBa",
   "metadata": {
    "colab": {
     "base_uri": "https://localhost:8080/"
    },
    "id": "THOGWJq3PdBa",
    "outputId": "d2fc001c-c1c0-4264-c7f1-ed5519dffa91"
   },
   "outputs": [
    {
     "name": "stdout",
     "output_type": "stream",
     "text": [
      "Epoch 1/15\n",
      "47/47 [==============================] - 31s 345ms/step - loss: 3.4377 - root_mean_squared_error: 1.8541 - val_loss: 2.7408 - val_root_mean_squared_error: 1.6555\n",
      "Epoch 2/15\n",
      "47/47 [==============================] - 13s 275ms/step - loss: 2.3288 - root_mean_squared_error: 1.5260 - val_loss: 1.9082 - val_root_mean_squared_error: 1.3814\n",
      "Epoch 3/15\n",
      "47/47 [==============================] - 13s 275ms/step - loss: 1.6078 - root_mean_squared_error: 1.2680 - val_loss: 1.2973 - val_root_mean_squared_error: 1.1390\n",
      "Epoch 4/15\n",
      "47/47 [==============================] - 13s 275ms/step - loss: 1.0746 - root_mean_squared_error: 1.0366 - val_loss: 0.8502 - val_root_mean_squared_error: 0.9220\n",
      "Epoch 5/15\n",
      "47/47 [==============================] - 13s 275ms/step - loss: 0.6966 - root_mean_squared_error: 0.8347 - val_loss: 0.5514 - val_root_mean_squared_error: 0.7426\n",
      "Epoch 6/15\n",
      "47/47 [==============================] - 13s 275ms/step - loss: 0.4618 - root_mean_squared_error: 0.6796 - val_loss: 0.3857 - val_root_mean_squared_error: 0.6211\n",
      "Epoch 7/15\n",
      "47/47 [==============================] - 13s 275ms/step - loss: 0.3438 - root_mean_squared_error: 0.5863 - val_loss: 0.3154 - val_root_mean_squared_error: 0.5616\n",
      "Epoch 8/15\n",
      "47/47 [==============================] - 13s 278ms/step - loss: 0.2988 - root_mean_squared_error: 0.5466 - val_loss: 0.2935 - val_root_mean_squared_error: 0.5418\n",
      "Epoch 9/15\n",
      "47/47 [==============================] - 13s 277ms/step - loss: 0.2860 - root_mean_squared_error: 0.5347 - val_loss: 0.2888 - val_root_mean_squared_error: 0.5374\n",
      "Epoch 10/15\n",
      "47/47 [==============================] - 13s 275ms/step - loss: 0.2832 - root_mean_squared_error: 0.5322 - val_loss: 0.2880 - val_root_mean_squared_error: 0.5366\n",
      "Epoch 11/15\n",
      "47/47 [==============================] - 13s 275ms/step - loss: 0.2822 - root_mean_squared_error: 0.5313 - val_loss: 0.2863 - val_root_mean_squared_error: 0.5350\n",
      "Epoch 12/15\n",
      "47/47 [==============================] - 13s 275ms/step - loss: 0.2622 - root_mean_squared_error: 0.5121 - val_loss: 0.2616 - val_root_mean_squared_error: 0.5115\n",
      "Epoch 13/15\n",
      "47/47 [==============================] - 13s 276ms/step - loss: 0.2240 - root_mean_squared_error: 0.4733 - val_loss: 0.2539 - val_root_mean_squared_error: 0.5039\n",
      "Epoch 14/15\n",
      "47/47 [==============================] - 13s 275ms/step - loss: 0.1937 - root_mean_squared_error: 0.4402 - val_loss: 0.2503 - val_root_mean_squared_error: 0.5003\n",
      "Epoch 15/15\n",
      "47/47 [==============================] - 13s 275ms/step - loss: 0.1686 - root_mean_squared_error: 0.4106 - val_loss: 0.2586 - val_root_mean_squared_error: 0.5085\n"
     ]
    }
   ],
   "source": [
    "history = model.fit(x=[train_titles,train_description,train_attribute,train_search_term],y=y_train,epochs=15,batch_size=1024,callbacks=[EarlyStopping(patience=2,restore_best_weights=True)] ,validation_data=(\n",
    "    [cv_titles,cv_description,cv_attribute,cv_search_term],y_cv\n",
    "))"
   ]
  },
  {
   "cell_type": "code",
   "execution_count": 101,
   "id": "THcjm-W1Pe4H",
   "metadata": {
    "colab": {
     "base_uri": "https://localhost:8080/",
     "height": 295
    },
    "id": "THcjm-W1Pe4H",
    "outputId": "55e997e2-d3c7-4047-8ee9-caef5bccea0c"
   },
   "outputs": [
    {
     "data": {
      "image/png": "[encoded data removed]",
      "text/plain": [
       "<Figure size 432x288 with 1 Axes>"
      ]
     },
     "metadata": {
      "needs_background": "light"
     },
     "output_type": "display_data"
    }
   ],
   "source": [
    "import matplotlib.pyplot as plt\n",
    "\n",
    "%matplotlib inline\n",
    "\n",
    "plt.plot(range(len(history.history[\"loss\"])), history.history[\"loss\"], history.history[\"val_loss\"])\n",
    "plt.xlabel('Epoch')\n",
    "plt.ylabel('Loss')\n",
    "plt.legend([\"Training loss\", \"Validation loss\"])\n",
    "plt.title('BIdirectional LSTM')\n",
    "plt.show()"
   ]
  },
  {
   "cell_type": "code",
   "execution_count": 102,
   "id": "bYtj7S_sHykS",
   "metadata": {
    "id": "bYtj7S_sHykS"
   },
   "outputs": [],
   "source": [
    "y_pred = model.predict([test_titles,test_description,test_attribute,test_search_term])"
   ]
  },
  {
   "cell_type": "code",
   "execution_count": 103,
   "id": "g7bUJwctPhSK",
   "metadata": {
    "colab": {
     "base_uri": "https://localhost:8080/"
    },
    "id": "g7bUJwctPhSK",
    "outputId": "b0794965-06ab-422a-b8e8-11be05eaa385"
   },
   "outputs": [
    {
     "name": "stdout",
     "output_type": "stream",
     "text": [
      "RMSE on test data : 0.5102083332175582\n",
      "MSE on test data  : 0.26031254328463893\n",
      "MAE on test data  : 0.38851141929626465\n"
     ]
    }
   ],
   "source": [
    "rmse = mean_squared_error(y_pred,y_test,squared=False)\n",
    "mse = mean_squared_error(y_pred,y_test)\n",
    "mae = median_absolute_error(y_pred,y_test)\n",
    "\n",
    "print(\"RMSE on test data :\",rmse)\n",
    "print(\"MSE on test data  :\",mse)\n",
    "print(\"MAE on test data  :\",mae)"
   ]
  },
  {
   "cell_type": "code",
   "execution_count": 104,
   "id": "95OiJJMKPi-6",
   "metadata": {
    "colab": {
     "base_uri": "https://localhost:8080/",
     "height": 312
    },
    "id": "95OiJJMKPi-6",
    "outputId": "4df00ac6-b37a-4493-9bb3-09679083050f"
   },
   "outputs": [
    {
     "data": {
      "text/plain": [
       "Text(0.5, 1.0, 'Analysis on BiLSTM')"
      ]
     },
     "execution_count": 104,
     "metadata": {},
     "output_type": "execute_result"
    },
    {
     "data": {
      "image/png": "[encoded data removed]",
      "text/plain": [
       "<Figure size 432x288 with 1 Axes>"
      ]
     },
     "metadata": {
      "needs_background": "light"
     },
     "output_type": "display_data"
    }
   ],
   "source": [
    "plt.scatter(y_pred[:40],y_test[:40])\n",
    "plt.xlabel(\"Predicted Relevance\")\n",
    "plt.ylabel(\"Actual Relevance\")\n",
    "plt.title(\"Analysis on BiLSTM\")"
   ]
  },
  {
   "cell_type": "code",
   "execution_count": 107,
   "id": "MUBUSwzoPkga",
   "metadata": {
    "colab": {
     "base_uri": "https://localhost:8080/"
    },
    "id": "MUBUSwzoPkga",
    "outputId": "69a36316-c045-43fe-85c2-116716802458"
   },
   "outputs": [
    {
     "name": "stdout",
     "output_type": "stream",
     "text": [
      "Time taken by BI LSTM model to predict the relevance:  0.06016254425048828\n"
     ]
    }
   ],
   "source": [
    "import time\n",
    "\n",
    "t = time.time()\n",
    "title = title_encoder.texts_to_sequences(test[\"preprocessed_title\"].values[0:1])\n",
    "descr = description_encoder.texts_to_sequences(test[\"preprocessed_description\"].values[0:1])\n",
    "attr = attribute_encoder.texts_to_sequences(test[\"preprocessed_attributes\"].values[0:1])\n",
    "search_term_ = search_term_encoder.texts_to_sequences(test[\"search_term\"].values[0:1])\n",
    "\n",
    "title = pad_sequences(title,maxlen=max_length_of_titles)\n",
    "descr = pad_sequences(descr,maxlen=200,truncating=\"post\")\n",
    "attr = pad_sequences(attr,maxlen=200,truncating=\"post\")\n",
    "search_term_ = pad_sequences(search_term_,maxlen=max_length_of_search_term)\n",
    "\n",
    "pred = model.predict([title,descr,attr,search_term_])\n",
    "time_taken = time.time()-t\n",
    "print(\"Time taken by BI LSTM model to predict the relevance: \",time_taken)"
   ]
  },
  {
   "cell_type": "markdown",
   "id": "lUISov7dLcJW",
   "metadata": {
    "id": "lUISov7dLcJW"
   },
   "source": [
    "### Conv1D"
   ]
  },
  {
   "cell_type": "code",
   "execution_count": 176,
   "id": "ZyhdbfPRL3Ni",
   "metadata": {
    "id": "ZyhdbfPRL3Ni"
   },
   "outputs": [],
   "source": [
    "backend.clear_session()\n",
    "from keras.layers import Conv1D, GlobalMaxPooling1D, Dropout"
   ]
  },
  {
   "cell_type": "code",
   "execution_count": 177,
   "id": "MsHjazmsK7oW",
   "metadata": {
    "id": "MsHjazmsK7oW"
   },
   "outputs": [],
   "source": [
    "title_input = Input(shape=(max_length_of_titles))\n",
    "embedding_layer = Embedding(title_vocab_len+1,50,input_length=max_length_of_titles)\n",
    "emb_vecs = embedding_layer(title_input)\n",
    "drop_out = Dropout(0.25)(emb_vecs)\n",
    "conv = Conv1D(100, 5, activation='relu',padding=\"same\")(drop_out)\n",
    "title_output = GlobalMaxPooling1D()(conv)"
   ]
  },
  {
   "cell_type": "code",
   "execution_count": 178,
   "id": "18stXNB7Lj1m",
   "metadata": {
    "id": "18stXNB7Lj1m"
   },
   "outputs": [],
   "source": [
    "description_input = Input(shape=(200))\n",
    "embedding_layer = Embedding(descr_vocab_len+1,100,input_length=200)\n",
    "emb_vecs = embedding_layer(description_input)\n",
    "drop_out = Dropout(0.25)(emb_vecs)\n",
    "conv = Conv1D(100, 5, activation='relu',padding=\"same\")(drop_out)\n",
    "\n",
    "description_output = GlobalMaxPooling1D()(conv)"
   ]
  },
  {
   "cell_type": "code",
   "execution_count": 179,
   "id": "S15zImBONZl6",
   "metadata": {
    "id": "S15zImBONZl6"
   },
   "outputs": [],
   "source": [
    "attribute_input = Input(shape=(200))\n",
    "embedding_layer = Embedding(attr_vocab_len+1,100,input_length=200)\n",
    "emb_vecs = embedding_layer(attribute_input)\n",
    "drop_out = Dropout(0.25)(emb_vecs)\n",
    "conv = Conv1D(100, 5, activation='relu',padding=\"same\")(drop_out)\n",
    "attribute_output = GlobalMaxPooling1D()(conv)"
   ]
  },
  {
   "cell_type": "code",
   "execution_count": 180,
   "id": "8n4ec_KMLtJk",
   "metadata": {
    "id": "8n4ec_KMLtJk"
   },
   "outputs": [],
   "source": [
    "search_term_input = Input(shape=(max_length_of_search_term))\n",
    "embedding_layer = Embedding(search_vocab_len+1,100,input_length=max_length_of_search_term)\n",
    "drop_out = Dropout(0.25)(emb_vecs)\n",
    "conv = Conv1D(100, 5, activation='relu',padding=\"same\")(drop_out)\n",
    "search_term_output = GlobalMaxPooling1D()(conv)"
   ]
  },
  {
   "cell_type": "code",
   "execution_count": 181,
   "id": "PAidizXOLuss",
   "metadata": {
    "id": "PAidizXOLuss"
   },
   "outputs": [],
   "source": [
    "# Dot layer is similar to cosine similarity when normalize is set to TRUE.\n",
    "cosine_similarity1 = Dot(axes=-1,normalize=True)([title_output,search_term_output])\n",
    "cosine_similarity2 = Dot(axes=-1,normalize=True)([description_output,search_term_output])\n",
    "cosine_similarity3 = Dot(axes=-1,normalize=True)([attribute_output,search_term_output])"
   ]
  },
  {
   "cell_type": "code",
   "execution_count": 182,
   "id": "GjJWwsLxLxqR",
   "metadata": {
    "id": "GjJWwsLxLxqR"
   },
   "outputs": [],
   "source": [
    "concat_inputs = concatenate([cosine_similarity1,cosine_similarity2,cosine_similarity3])\n",
    "concat_inputs = Dense(64,activation=\"relu\")(concat_inputs)\n",
    "all_inputs = Dense(10,activation=\"relu\")(concat_inputs)"
   ]
  },
  {
   "cell_type": "code",
   "execution_count": 183,
   "id": "ufxNquPyL0a9",
   "metadata": {
    "id": "ufxNquPyL0a9"
   },
   "outputs": [],
   "source": [
    "output_layer = Dense(1,activation=\"linear\")(all_inputs)"
   ]
  },
  {
   "cell_type": "code",
   "execution_count": 184,
   "id": "MpizwjRlL2LZ",
   "metadata": {
    "id": "MpizwjRlL2LZ"
   },
   "outputs": [],
   "source": [
    "model = Model(inputs=[title_input,description_input,attribute_input,search_term_input], outputs=output_layer)"
   ]
  },
  {
   "cell_type": "code",
   "execution_count": 185,
   "id": "lrd8ySP1NvhS",
   "metadata": {
    "colab": {
     "base_uri": "https://localhost:8080/"
    },
    "id": "lrd8ySP1NvhS",
    "outputId": "f17b8e02-bc9b-4081-e626-3dab93902afe"
   },
   "outputs": [
    {
     "name": "stdout",
     "output_type": "stream",
     "text": [
      "Model: \"model\"\n",
      "__________________________________________________________________________________________________\n",
      " Layer (type)                   Output Shape         Param #     Connected to                     \n",
      "==================================================================================================\n",
      " input_1 (InputLayer)           [(None, 32)]         0           []                               \n",
      "                                                                                                  \n",
      " input_3 (InputLayer)           [(None, 200)]        0           []                               \n",
      "                                                                                                  \n",
      " input_2 (InputLayer)           [(None, 200)]        0           []                               \n",
      "                                                                                                  \n",
      " embedding (Embedding)          (None, 32, 50)       754050      ['input_1[0][0]']                \n",
      "                                                                                                  \n",
      " embedding_2 (Embedding)        (None, 200, 100)     2905900     ['input_3[0][0]']                \n",
      "                                                                                                  \n",
      " embedding_1 (Embedding)        (None, 200, 100)     13175700    ['input_2[0][0]']                \n",
      "                                                                                                  \n",
      " dropout (Dropout)              (None, 32, 50)       0           ['embedding[0][0]']              \n",
      "                                                                                                  \n",
      " dropout_3 (Dropout)            (None, 200, 100)     0           ['embedding_2[0][0]']            \n",
      "                                                                                                  \n",
      " dropout_1 (Dropout)            (None, 200, 100)     0           ['embedding_1[0][0]']            \n",
      "                                                                                                  \n",
      " dropout_2 (Dropout)            (None, 200, 100)     0           ['embedding_2[0][0]']            \n",
      "                                                                                                  \n",
      " conv1d (Conv1D)                (None, 32, 100)      25100       ['dropout[0][0]']                \n",
      "                                                                                                  \n",
      " conv1d_3 (Conv1D)              (None, 200, 100)     50100       ['dropout_3[0][0]']              \n",
      "                                                                                                  \n",
      " conv1d_1 (Conv1D)              (None, 200, 100)     50100       ['dropout_1[0][0]']              \n",
      "                                                                                                  \n",
      " conv1d_2 (Conv1D)              (None, 200, 100)     50100       ['dropout_2[0][0]']              \n",
      "                                                                                                  \n",
      " global_max_pooling1d (GlobalMa  (None, 100)         0           ['conv1d[0][0]']                 \n",
      " xPooling1D)                                                                                      \n",
      "                                                                                                  \n",
      " global_max_pooling1d_3 (Global  (None, 100)         0           ['conv1d_3[0][0]']               \n",
      " MaxPooling1D)                                                                                    \n",
      "                                                                                                  \n",
      " global_max_pooling1d_1 (Global  (None, 100)         0           ['conv1d_1[0][0]']               \n",
      " MaxPooling1D)                                                                                    \n",
      "                                                                                                  \n",
      " global_max_pooling1d_2 (Global  (None, 100)         0           ['conv1d_2[0][0]']               \n",
      " MaxPooling1D)                                                                                    \n",
      "                                                                                                  \n",
      " dot (Dot)                      (None, 1)            0           ['global_max_pooling1d[0][0]',   \n",
      "                                                                  'global_max_pooling1d_3[0][0]'] \n",
      "                                                                                                  \n",
      " dot_1 (Dot)                    (None, 1)            0           ['global_max_pooling1d_1[0][0]', \n",
      "                                                                  'global_max_pooling1d_3[0][0]'] \n",
      "                                                                                                  \n",
      " dot_2 (Dot)                    (None, 1)            0           ['global_max_pooling1d_2[0][0]', \n",
      "                                                                  'global_max_pooling1d_3[0][0]'] \n",
      "                                                                                                  \n",
      " concatenate (Concatenate)      (None, 3)            0           ['dot[0][0]',                    \n",
      "                                                                  'dot_1[0][0]',                  \n",
      "                                                                  'dot_2[0][0]']                  \n",
      "                                                                                                  \n",
      " dense (Dense)                  (None, 64)           256         ['concatenate[0][0]']            \n",
      "                                                                                                  \n",
      " dense_1 (Dense)                (None, 10)           650         ['dense[0][0]']                  \n",
      "                                                                                                  \n",
      " input_4 (InputLayer)           [(None, 17)]         0           []                               \n",
      "                                                                                                  \n",
      " dense_2 (Dense)                (None, 1)            11          ['dense_1[0][0]']                \n",
      "                                                                                                  \n",
      "==================================================================================================\n",
      "Total params: 17,011,967\n",
      "Trainable params: 17,011,967\n",
      "Non-trainable params: 0\n",
      "__________________________________________________________________________________________________\n"
     ]
    }
   ],
   "source": [
    "model.summary()"
   ]
  },
  {
   "cell_type": "code",
   "execution_count": 186,
   "id": "tALp5wLNNxrU",
   "metadata": {
    "id": "tALp5wLNNxrU"
   },
   "outputs": [],
   "source": [
    "model.compile(\n",
    "    optimizer=Adam(learning_rate=0.0001),\n",
    "    loss='mse',\n",
    "    metrics=[RootMeanSquaredError()])"
   ]
  },
  {
   "cell_type": "code",
   "execution_count": 187,
   "id": "m-lGiytvNzuT",
   "metadata": {
    "colab": {
     "base_uri": "https://localhost:8080/"
    },
    "id": "m-lGiytvNzuT",
    "outputId": "a8b92d47-b839-4142-d606-ca1f497df0f0"
   },
   "outputs": [
    {
     "name": "stdout",
     "output_type": "stream",
     "text": [
      "Epoch 1/35\n",
      "47/47 [==============================] - 6s 97ms/step - loss: 5.4081 - root_mean_squared_error: 2.3255 - val_loss: 4.9826 - val_root_mean_squared_error: 2.2322\n",
      "Epoch 2/35\n",
      "47/47 [==============================] - 4s 92ms/step - loss: 4.5409 - root_mean_squared_error: 2.1309 - val_loss: 4.1176 - val_root_mean_squared_error: 2.0292\n",
      "Epoch 3/35\n",
      "47/47 [==============================] - 4s 92ms/step - loss: 3.8054 - root_mean_squared_error: 1.9508 - val_loss: 3.4245 - val_root_mean_squared_error: 1.8505\n",
      "Epoch 4/35\n",
      "47/47 [==============================] - 4s 92ms/step - loss: 3.1708 - root_mean_squared_error: 1.7807 - val_loss: 2.8708 - val_root_mean_squared_error: 1.6943\n",
      "Epoch 5/35\n",
      "47/47 [==============================] - 4s 92ms/step - loss: 2.6595 - root_mean_squared_error: 1.6308 - val_loss: 2.4096 - val_root_mean_squared_error: 1.5523\n",
      "Epoch 6/35\n",
      "47/47 [==============================] - 4s 95ms/step - loss: 2.2282 - root_mean_squared_error: 1.4927 - val_loss: 2.0088 - val_root_mean_squared_error: 1.4173\n",
      "Epoch 7/35\n",
      "47/47 [==============================] - 4s 93ms/step - loss: 1.8417 - root_mean_squared_error: 1.3571 - val_loss: 1.6418 - val_root_mean_squared_error: 1.2813\n",
      "Epoch 8/35\n",
      "47/47 [==============================] - 4s 92ms/step - loss: 1.4916 - root_mean_squared_error: 1.2213 - val_loss: 1.3146 - val_root_mean_squared_error: 1.1466\n",
      "Epoch 9/35\n",
      "47/47 [==============================] - 4s 93ms/step - loss: 1.1850 - root_mean_squared_error: 1.0886 - val_loss: 1.0341 - val_root_mean_squared_error: 1.0169\n",
      "Epoch 10/35\n",
      "47/47 [==============================] - 4s 92ms/step - loss: 0.9274 - root_mean_squared_error: 0.9630 - val_loss: 0.8045 - val_root_mean_squared_error: 0.8969\n",
      "Epoch 11/35\n",
      "47/47 [==============================] - 4s 92ms/step - loss: 0.7215 - root_mean_squared_error: 0.8494 - val_loss: 0.6266 - val_root_mean_squared_error: 0.7916\n",
      "Epoch 12/35\n",
      "47/47 [==============================] - 4s 92ms/step - loss: 0.5659 - root_mean_squared_error: 0.7523 - val_loss: 0.4967 - val_root_mean_squared_error: 0.7048\n",
      "Epoch 13/35\n",
      "47/47 [==============================] - 4s 92ms/step - loss: 0.4553 - root_mean_squared_error: 0.6748 - val_loss: 0.4083 - val_root_mean_squared_error: 0.6390\n",
      "Epoch 14/35\n",
      "47/47 [==============================] - 4s 92ms/step - loss: 0.3821 - root_mean_squared_error: 0.6181 - val_loss: 0.3519 - val_root_mean_squared_error: 0.5932\n",
      "Epoch 15/35\n",
      "47/47 [==============================] - 4s 92ms/step - loss: 0.3369 - root_mean_squared_error: 0.5805 - val_loss: 0.3189 - val_root_mean_squared_error: 0.5647\n",
      "Epoch 16/35\n",
      "47/47 [==============================] - 4s 92ms/step - loss: 0.3111 - root_mean_squared_error: 0.5577 - val_loss: 0.3010 - val_root_mean_squared_error: 0.5486\n",
      "Epoch 17/35\n",
      "47/47 [==============================] - 4s 92ms/step - loss: 0.2973 - root_mean_squared_error: 0.5452 - val_loss: 0.2919 - val_root_mean_squared_error: 0.5403\n",
      "Epoch 18/35\n",
      "47/47 [==============================] - 4s 92ms/step - loss: 0.2905 - root_mean_squared_error: 0.5389 - val_loss: 0.2877 - val_root_mean_squared_error: 0.5364\n",
      "Epoch 19/35\n",
      "47/47 [==============================] - 4s 92ms/step - loss: 0.2873 - root_mean_squared_error: 0.5360 - val_loss: 0.2859 - val_root_mean_squared_error: 0.5347\n",
      "Epoch 20/35\n",
      "47/47 [==============================] - 4s 92ms/step - loss: 0.2860 - root_mean_squared_error: 0.5347 - val_loss: 0.2852 - val_root_mean_squared_error: 0.5341\n",
      "Epoch 21/35\n",
      "47/47 [==============================] - 4s 92ms/step - loss: 0.2854 - root_mean_squared_error: 0.5342 - val_loss: 0.2850 - val_root_mean_squared_error: 0.5339\n",
      "Epoch 22/35\n",
      "47/47 [==============================] - 4s 92ms/step - loss: 0.2851 - root_mean_squared_error: 0.5340 - val_loss: 0.2850 - val_root_mean_squared_error: 0.5338\n",
      "Epoch 23/35\n",
      "47/47 [==============================] - 4s 92ms/step - loss: 0.2851 - root_mean_squared_error: 0.5339 - val_loss: 0.2849 - val_root_mean_squared_error: 0.5338\n",
      "Epoch 24/35\n",
      "47/47 [==============================] - 4s 92ms/step - loss: 0.2850 - root_mean_squared_error: 0.5339 - val_loss: 0.2850 - val_root_mean_squared_error: 0.5338\n",
      "Epoch 25/35\n",
      "47/47 [==============================] - 4s 92ms/step - loss: 0.2850 - root_mean_squared_error: 0.5338 - val_loss: 0.2850 - val_root_mean_squared_error: 0.5338\n"
     ]
    }
   ],
   "source": [
    "history2 = model.fit(x=[train_titles,train_description,train_attribute,train_search_term],y=y_train,epochs=35,batch_size=1024,callbacks=[EarlyStopping(patience=2,restore_best_weights=True)] ,validation_data=(\n",
    "    [cv_titles,cv_description,cv_attribute,cv_search_term],y_cv\n",
    "))"
   ]
  },
  {
   "cell_type": "code",
   "execution_count": 193,
   "id": "XjVBJ3IP-aFf",
   "metadata": {
    "colab": {
     "base_uri": "https://localhost:8080/",
     "height": 295
    },
    "id": "XjVBJ3IP-aFf",
    "outputId": "767ac253-99ca-4c06-ead0-764d2a023dc0"
   },
   "outputs": [
    {
     "data": {
      "image/png": "[encoded data removed]",
      "text/plain": [
       "<Figure size 432x288 with 1 Axes>"
      ]
     },
     "metadata": {
      "needs_background": "light"
     },
     "output_type": "display_data"
    }
   ],
   "source": [
    "plt.plot(range(len(history2.history[\"loss\"])), history2.history[\"loss\"], history2.history[\"val_loss\"])\n",
    "plt.xlabel('Epoch')\n",
    "plt.ylabel('Loss')\n",
    "plt.legend([\"Training loss\", \"Validation loss\"])\n",
    "plt.title('Conv1D ')\n",
    "plt.show()"
   ]
  },
  {
   "cell_type": "code",
   "execution_count": 194,
   "id": "7QRcEC0M-4qg",
   "metadata": {
    "colab": {
     "base_uri": "https://localhost:8080/"
    },
    "id": "7QRcEC0M-4qg",
    "outputId": "345caa8f-2179-4513-fe2d-38dafb8aec63"
   },
   "outputs": [
    {
     "name": "stdout",
     "output_type": "stream",
     "text": [
      "RMSE on test data : 0.5343988777205347\n",
      "MSE on test data  : 0.285582160508967\n",
      "MAE on test data  : 0.3802490234375\n"
     ]
    }
   ],
   "source": [
    "y_pred = model.predict([test_titles,test_description,test_attribute,test_search_term])\n",
    "\n",
    "rmse = mean_squared_error(y_pred,y_test,squared=False)\n",
    "mse = mean_squared_error(y_pred,y_test)\n",
    "mae = median_absolute_error(y_pred,y_test)\n",
    "\n",
    "print(\"RMSE on test data :\",rmse)\n",
    "print(\"MSE on test data  :\",mse)\n",
    "print(\"MAE on test data  :\",mae)\n"
   ]
  },
  {
   "cell_type": "code",
   "execution_count": 195,
   "id": "kt9fkrd1ZrTB",
   "metadata": {
    "colab": {
     "base_uri": "https://localhost:8080/",
     "height": 312
    },
    "id": "kt9fkrd1ZrTB",
    "outputId": "a3097d4a-145e-4873-bcab-a9d9fcbc656d"
   },
   "outputs": [
    {
     "data": {
      "text/plain": [
       "Text(0.5, 1.0, 'Analysis on Conv1D')"
      ]
     },
     "execution_count": 195,
     "metadata": {},
     "output_type": "execute_result"
    },
    {
     "data": {
      "image/png": "[encoded data removed]",
      "text/plain": [
       "<Figure size 432x288 with 1 Axes>"
      ]
     },
     "metadata": {
      "needs_background": "light"
     },
     "output_type": "display_data"
    }
   ],
   "source": [
    "plt.scatter(y_pred[:40],y_test[:40])\n",
    "plt.xlabel(\"Predicted Relevance\")\n",
    "plt.ylabel(\"Actual Relevance\")\n",
    "plt.title(\"Analysis on Conv1D\")"
   ]
  },
  {
   "cell_type": "code",
   "execution_count": 196,
   "id": "PHQa0WtOaHwV",
   "metadata": {
    "colab": {
     "base_uri": "https://localhost:8080/"
    },
    "id": "PHQa0WtOaHwV",
    "outputId": "ba719036-9548-485c-96af-d15f558b3a1f"
   },
   "outputs": [
    {
     "name": "stdout",
     "output_type": "stream",
     "text": [
      "Time taken by conv 1D model to predict the relevance:  0.05159807205200195\n"
     ]
    }
   ],
   "source": [
    "import time\n",
    "t = time.time()\n",
    "title = title_encoder.texts_to_sequences(test[\"preprocessed_title\"].values[0:1])\n",
    "descr = description_encoder.texts_to_sequences(test[\"preprocessed_description\"].values[0:1])\n",
    "attr = attribute_encoder.texts_to_sequences(test[\"preprocessed_attributes\"].values[0:1])\n",
    "search_term_ = search_term_encoder.texts_to_sequences(test[\"search_term\"].values[0:1])\n",
    "\n",
    "title = pad_sequences(title,maxlen=max_length_of_titles)\n",
    "descr = pad_sequences(descr,maxlen=200,truncating=\"post\")\n",
    "attr = pad_sequences(attr,maxlen=200,truncating=\"post\")\n",
    "search_term_ = pad_sequences(search_term_,maxlen=max_length_of_search_term)\n",
    "\n",
    "pred = model.predict([title,descr,attr,search_term_])\n",
    "time_taken = time.time()-t\n",
    "print(\"Time taken by conv 1D model to predict the relevance: \",time_taken)"
   ]
  },
  {
   "cell_type": "markdown",
   "id": "Vb44MDjMRM3i",
   "metadata": {
    "id": "Vb44MDjMRM3i"
   },
   "source": [
    "### Attention"
   ]
  },
  {
   "cell_type": "code",
   "execution_count": 197,
   "id": "OjVCqxCGN2Zi",
   "metadata": {
    "id": "OjVCqxCGN2Zi"
   },
   "outputs": [],
   "source": [
    "backend.clear_session()\n",
    "from keras.layers import AdditiveAttention\n",
    "import tensorflow as tf"
   ]
  },
  {
   "cell_type": "code",
   "execution_count": 198,
   "id": "YyiU3EmTSWj_",
   "metadata": {
    "id": "YyiU3EmTSWj_"
   },
   "outputs": [],
   "source": [
    "title_input = Input(shape=(max_length_of_titles))\n",
    "embedding_layer = Embedding(title_vocab_len+1,50,input_length=max_length_of_titles)\n",
    "emb_vecs = embedding_layer(title_input)\n",
    "title_output, forward_h, forward_c, backward_h, backward_c = Bidirectional(LSTM(100,return_state=True,dropout=0.25))(emb_vecs)\n",
    "title_state_h = tf.keras.layers.Concatenate()([forward_h, backward_h])\n",
    "title_state_c = tf.keras.layers.Concatenate()([forward_c, backward_c])"
   ]
  },
  {
   "cell_type": "code",
   "execution_count": 199,
   "id": "mLurb7bOVdnv",
   "metadata": {
    "id": "mLurb7bOVdnv"
   },
   "outputs": [],
   "source": [
    "description_input = Input(shape=(200))\n",
    "embedding_layer = Embedding(descr_vocab_len+1,100,input_length=200)\n",
    "emb_vecs = embedding_layer(description_input)\n",
    "description_output, forward_h, forward_c, backward_h, backward_c = Bidirectional(LSTM(100,return_state=True,dropout=0.25))(emb_vecs)\n",
    "description_state_h = tf.keras.layers.Concatenate()([forward_h, backward_h])\n",
    "description_state_c = tf.keras.layers.Concatenate()([forward_c, backward_c])"
   ]
  },
  {
   "cell_type": "code",
   "execution_count": 200,
   "id": "D_mr6MADdNoy",
   "metadata": {
    "id": "D_mr6MADdNoy"
   },
   "outputs": [],
   "source": [
    "attribute_input = Input(shape=(200))\n",
    "embedding_layer = Embedding(attr_vocab_len+1,100,input_length=200)\n",
    "emb_vecs = embedding_layer(attribute_input)\n",
    "attr_output, forward_h, forward_c, backward_h, backward_c = Bidirectional(LSTM(100,return_state=True,dropout=0.25))(emb_vecs)\n",
    "attr_state_h = tf.keras.layers.Concatenate()([forward_h, backward_h])\n",
    "attr_state_c = tf.keras.layers.Concatenate()([forward_c, backward_c])"
   ]
  },
  {
   "cell_type": "code",
   "execution_count": 201,
   "id": "YguY1P8rV3Kj",
   "metadata": {
    "id": "YguY1P8rV3Kj"
   },
   "outputs": [],
   "source": [
    "search_term_input = Input(shape=(max_length_of_search_term))\n",
    "embedding_layer = Embedding(search_vocab_len+1,100,input_length=max_length_of_search_term)\n",
    "emb_vecs = embedding_layer(search_term_input)\n",
    "search_term_output = Bidirectional(LSTM(100))(emb_vecs)"
   ]
  },
  {
   "cell_type": "code",
   "execution_count": 202,
   "id": "sK4onRSaYDoC",
   "metadata": {
    "id": "sK4onRSaYDoC"
   },
   "outputs": [],
   "source": [
    "class Attention(tf.keras.Model):\n",
    "    def __init__(self, units):\n",
    "        super(Attention, self).__init__()\n",
    "        self.w1 = Dense(units)\n",
    "        self.w2 = Dense(units)\n",
    "        self.V = Dense(1)\n",
    "    def call(self, input, h_state):\n",
    "        hidden_with_time_axis = tf.expand_dims(h_state, 1)\n",
    "        score = tf.nn.tanh(self.w1(input) + self.w2(hidden_with_time_axis))\n",
    "        attention_weights = tf.nn.softmax(self.V(score), axis=1)\n",
    "        context_vector = attention_weights * input\n",
    "        context_vector = tf.reduce_sum(context_vector, axis=1)\n",
    "        return context_vector, attention_weights"
   ]
  },
  {
   "cell_type": "code",
   "execution_count": 203,
   "id": "wvkPuvgTWUpz",
   "metadata": {
    "id": "wvkPuvgTWUpz"
   },
   "outputs": [],
   "source": [
    "context_vector1, attention_weights = Attention(100)(search_term_output, title_state_h)\n",
    "context_vector2, attention_weights = Attention(100)(search_term_output, description_state_h)\n",
    "context_vector3, attention_weights = Attention(100)(search_term_output, attr_state_h)"
   ]
  },
  {
   "cell_type": "code",
   "execution_count": 204,
   "id": "r19jrPM8Wje6",
   "metadata": {
    "id": "r19jrPM8Wje6"
   },
   "outputs": [],
   "source": [
    "concat_layer = concatenate([context_vector1,context_vector2,context_vector3])\n",
    "dense = Dense(10,activation=\"relu\")(concat_layer)\n",
    "output_layer = Dense(1,activation=\"linear\")(dense)"
   ]
  },
  {
   "cell_type": "code",
   "execution_count": 205,
   "id": "heHFJC5YYSQU",
   "metadata": {
    "id": "heHFJC5YYSQU"
   },
   "outputs": [],
   "source": [
    "model = Model(inputs=[title_input,description_input,attribute_input,search_term_input], outputs=output_layer)"
   ]
  },
  {
   "cell_type": "code",
   "execution_count": 206,
   "id": "GaSviAMjY4w5",
   "metadata": {
    "colab": {
     "base_uri": "https://localhost:8080/"
    },
    "id": "GaSviAMjY4w5",
    "outputId": "39ea0e9a-6614-4e08-b33a-34910b8ee60d"
   },
   "outputs": [
    {
     "name": "stdout",
     "output_type": "stream",
     "text": [
      "Model: \"model\"\n",
      "__________________________________________________________________________________________________\n",
      " Layer (type)                   Output Shape         Param #     Connected to                     \n",
      "==================================================================================================\n",
      " input_1 (InputLayer)           [(None, 32)]         0           []                               \n",
      "                                                                                                  \n",
      " input_2 (InputLayer)           [(None, 200)]        0           []                               \n",
      "                                                                                                  \n",
      " input_3 (InputLayer)           [(None, 200)]        0           []                               \n",
      "                                                                                                  \n",
      " input_4 (InputLayer)           [(None, 17)]         0           []                               \n",
      "                                                                                                  \n",
      " embedding (Embedding)          (None, 32, 50)       754050      ['input_1[0][0]']                \n",
      "                                                                                                  \n",
      " embedding_1 (Embedding)        (None, 200, 100)     13175700    ['input_2[0][0]']                \n",
      "                                                                                                  \n",
      " embedding_2 (Embedding)        (None, 200, 100)     2905900     ['input_3[0][0]']                \n",
      "                                                                                                  \n",
      " embedding_3 (Embedding)        (None, 17, 100)      762200      ['input_4[0][0]']                \n",
      "                                                                                                  \n",
      " bidirectional (Bidirectional)  [(None, 200),        120800      ['embedding[0][0]']              \n",
      "                                 (None, 100),                                                     \n",
      "                                 (None, 100),                                                     \n",
      "                                 (None, 100),                                                     \n",
      "                                 (None, 100)]                                                     \n",
      "                                                                                                  \n",
      " bidirectional_1 (Bidirectional  [(None, 200),       160800      ['embedding_1[0][0]']            \n",
      " )                               (None, 100),                                                     \n",
      "                                 (None, 100),                                                     \n",
      "                                 (None, 100),                                                     \n",
      "                                 (None, 100)]                                                     \n",
      "                                                                                                  \n",
      " bidirectional_2 (Bidirectional  [(None, 200),       160800      ['embedding_2[0][0]']            \n",
      " )                               (None, 100),                                                     \n",
      "                                 (None, 100),                                                     \n",
      "                                 (None, 100),                                                     \n",
      "                                 (None, 100)]                                                     \n",
      "                                                                                                  \n",
      " bidirectional_3 (Bidirectional  (None, 200)         160800      ['embedding_3[0][0]']            \n",
      " )                                                                                                \n",
      "                                                                                                  \n",
      " concatenate (Concatenate)      (None, 200)          0           ['bidirectional[0][1]',          \n",
      "                                                                  'bidirectional[0][3]']          \n",
      "                                                                                                  \n",
      " concatenate_2 (Concatenate)    (None, 200)          0           ['bidirectional_1[0][1]',        \n",
      "                                                                  'bidirectional_1[0][3]']        \n",
      "                                                                                                  \n",
      " concatenate_4 (Concatenate)    (None, 200)          0           ['bidirectional_2[0][1]',        \n",
      "                                                                  'bidirectional_2[0][3]']        \n",
      "                                                                                                  \n",
      " attention (Attention)          ((None, 200),        40301       ['bidirectional_3[0][0]',        \n",
      "                                 (None, None, 1))                 'concatenate[0][0]']            \n",
      "                                                                                                  \n",
      " attention_1 (Attention)        ((None, 200),        40301       ['bidirectional_3[0][0]',        \n",
      "                                 (None, None, 1))                 'concatenate_2[0][0]']          \n",
      "                                                                                                  \n",
      " attention_2 (Attention)        ((None, 200),        40301       ['bidirectional_3[0][0]',        \n",
      "                                 (None, None, 1))                 'concatenate_4[0][0]']          \n",
      "                                                                                                  \n",
      " concatenate_6 (Concatenate)    (None, 600)          0           ['attention[0][0]',              \n",
      "                                                                  'attention_1[0][0]',            \n",
      "                                                                  'attention_2[0][0]']            \n",
      "                                                                                                  \n",
      " dense_9 (Dense)                (None, 10)           6010        ['concatenate_6[0][0]']          \n",
      "                                                                                                  \n",
      " dense_10 (Dense)               (None, 1)            11          ['dense_9[0][0]']                \n",
      "                                                                                                  \n",
      "==================================================================================================\n",
      "Total params: 18,327,974\n",
      "Trainable params: 18,327,974\n",
      "Non-trainable params: 0\n",
      "__________________________________________________________________________________________________\n"
     ]
    }
   ],
   "source": [
    "model.summary()"
   ]
  },
  {
   "cell_type": "code",
   "execution_count": 207,
   "id": "W4cVjo-rY6-4",
   "metadata": {
    "id": "W4cVjo-rY6-4"
   },
   "outputs": [],
   "source": [
    "model.compile(\n",
    "    optimizer=Adam(learning_rate=0.0001),\n",
    "    loss='mse',\n",
    "    metrics=[RootMeanSquaredError()])"
   ]
  },
  {
   "cell_type": "code",
   "execution_count": 208,
   "id": "9xEN_jPZY_Vs",
   "metadata": {
    "colab": {
     "base_uri": "https://localhost:8080/"
    },
    "id": "9xEN_jPZY_Vs",
    "outputId": "0ed45722-ccf2-405d-8ada-9b81d110b88d"
   },
   "outputs": [
    {
     "name": "stdout",
     "output_type": "stream",
     "text": [
      "Epoch 1/35\n",
      "47/47 [==============================] - 31s 408ms/step - loss: 5.2142 - root_mean_squared_error: 2.2835 - val_loss: 3.8356 - val_root_mean_squared_error: 1.9585\n",
      "Epoch 2/35\n",
      "47/47 [==============================] - 16s 349ms/step - loss: 1.4382 - root_mean_squared_error: 1.1993 - val_loss: 0.2941 - val_root_mean_squared_error: 0.5423\n",
      "Epoch 3/35\n",
      "47/47 [==============================] - 16s 349ms/step - loss: 0.2918 - root_mean_squared_error: 0.5402 - val_loss: 0.2850 - val_root_mean_squared_error: 0.5339\n",
      "Epoch 4/35\n",
      "47/47 [==============================] - 16s 348ms/step - loss: 0.2851 - root_mean_squared_error: 0.5340 - val_loss: 0.2850 - val_root_mean_squared_error: 0.5339\n",
      "Epoch 5/35\n",
      "47/47 [==============================] - 16s 350ms/step - loss: 0.2852 - root_mean_squared_error: 0.5340 - val_loss: 0.2852 - val_root_mean_squared_error: 0.5341\n"
     ]
    }
   ],
   "source": [
    "history3 = model.fit(x=[train_titles,train_description,train_attribute,train_search_term],y=y_train,epochs=35,batch_size=1024,callbacks=[EarlyStopping(patience=2,restore_best_weights=True)] ,validation_data=(\n",
    "    [cv_titles,cv_description,cv_attribute,cv_search_term],y_cv\n",
    "))"
   ]
  },
  {
   "cell_type": "code",
   "execution_count": 210,
   "id": "qr8eGr669ZuN",
   "metadata": {
    "colab": {
     "base_uri": "https://localhost:8080/"
    },
    "id": "qr8eGr669ZuN",
    "outputId": "038f4885-b8a6-4236-c64c-32c769ccce77"
   },
   "outputs": [
    {
     "name": "stdout",
     "output_type": "stream",
     "text": [
      "RMSE on test data : 0.5351345961540366\n",
      "MSE on test data  : 0.2863690360009438\n",
      "MAE on test data  : 0.37949609756469727\n"
     ]
    }
   ],
   "source": [
    "y_pred = model.predict([test_titles,test_description,test_attribute,test_search_term])\n",
    "\n",
    "rmse = mean_squared_error(y_pred,y_test,squared=False)\n",
    "mse = mean_squared_error(y_pred,y_test)\n",
    "mae = median_absolute_error(y_pred,y_test)\n",
    "\n",
    "print(\"RMSE on test data :\",rmse)\n",
    "print(\"MSE on test data  :\",mse)\n",
    "print(\"MAE on test data  :\",mae)"
   ]
  },
  {
   "cell_type": "code",
   "execution_count": 214,
   "id": "x4ULbwCq9dBz",
   "metadata": {
    "colab": {
     "base_uri": "https://localhost:8080/"
    },
    "id": "x4ULbwCq9dBz",
    "outputId": "19873f27-539c-46c2-b7d3-949214efad70"
   },
   "outputs": [
    {
     "name": "stdout",
     "output_type": "stream",
     "text": [
      "Time taken by Attention model to predict the relevance:  0.06629800796508789\n"
     ]
    }
   ],
   "source": [
    "t = time.time()\n",
    "title = title_encoder.texts_to_sequences(test[\"preprocessed_title\"].values[0:1])\n",
    "descr = description_encoder.texts_to_sequences(test[\"preprocessed_description\"].values[0:1])\n",
    "attr = attribute_encoder.texts_to_sequences(test[\"preprocessed_attributes\"].values[0:1])\n",
    "search_term_ = search_term_encoder.texts_to_sequences(test[\"search_term\"].values[0:1])\n",
    "\n",
    "title = pad_sequences(title,maxlen=max_length_of_titles)\n",
    "descr = pad_sequences(descr,maxlen=200,truncating=\"post\")\n",
    "attr = pad_sequences(attr,maxlen=200,truncating=\"post\")\n",
    "search_term_ = pad_sequences(search_term_,maxlen=max_length_of_search_term)\n",
    "\n",
    "pred = model.predict([title,descr,attr,search_term_])\n",
    "time_taken = time.time()-t\n",
    "print(\"Time taken by Attention model to predict the relevance: \",time_taken)"
   ]
  },
  {
   "cell_type": "markdown",
   "id": "8YH0L3xEa2eS",
   "metadata": {
    "id": "8YH0L3xEa2eS"
   },
   "source": [
    "### BERT"
   ]
  },
  {
   "cell_type": "code",
   "execution_count": null,
   "id": "5vVaCaZgbgfc",
   "metadata": {
    "id": "5vVaCaZgbgfc"
   },
   "outputs": [],
   "source": [
    "import tensorflow as tf\n",
    "import tensorflow_hub as hub\n",
    "from tensorflow.keras.models import Model\n",
    "import re"
   ]
  },
  {
   "cell_type": "code",
   "execution_count": null,
   "id": "UNqwKSIFTT_U",
   "metadata": {
    "colab": {
     "base_uri": "https://localhost:8080/"
    },
    "id": "UNqwKSIFTT_U",
    "outputId": "ffc05f14-cd80-4797-faab-f6c676733758"
   },
   "outputs": [
    {
     "name": "stdout",
     "output_type": "stream",
     "text": [
      "Requirement already satisfied: sentencepiece in /usr/local/lib/python3.7/dist-packages (0.1.96)\n",
      "Downloading...\n",
      "From: https://drive.google.com/uc?id=13exfXiyiByluh1PfYK1EyZyizqxeCVG9\n",
      "To: /content/tokenization.py\n",
      "100% 17.3k/17.3k [00:00<00:00, 15.6MB/s]\n"
     ]
    }
   ],
   "source": [
    "!pip install sentencepiece\n",
    "!gdown --id 13exfXiyiByluh1PfYK1EyZyizqxeCVG9"
   ]
  },
  {
   "cell_type": "code",
   "execution_count": null,
   "id": "2qBDpSNmVkwS",
   "metadata": {
    "id": "2qBDpSNmVkwS"
   },
   "outputs": [],
   "source": [
    "from keras import backend\n",
    "backend.clear_session()"
   ]
  },
  {
   "cell_type": "code",
   "execution_count": null,
   "id": "MhZYWid2TcLu",
   "metadata": {
    "id": "MhZYWid2TcLu"
   },
   "outputs": [],
   "source": [
    "\n",
    "max_seq_length = 34\n",
    "\n",
    "input_word_ids = Input(shape=(max_seq_length,), dtype=tf.int32)\n",
    "input_mask = Input(shape=(max_seq_length,), dtype=tf.int32)\n",
    "segment_ids = Input(shape=(max_seq_length,), dtype=tf.int32)\n",
    "\n",
    "bert_layer = hub.KerasLayer(\"https://tfhub.dev/tensorflow/bert_en_uncased_L-12_H-768_A-12/1\", trainable=False)\n",
    "\n",
    "pooled_output, sequence_output = bert_layer([input_word_ids, input_mask, segment_ids])\n",
    "\n",
    "bert_model = Model(inputs=[input_word_ids, input_mask, segment_ids], outputs=pooled_output)"
   ]
  },
  {
   "cell_type": "code",
   "execution_count": null,
   "id": "OuxVreLIW_H9",
   "metadata": {
    "id": "OuxVreLIW_H9"
   },
   "outputs": [],
   "source": [
    "vocab_file = bert_layer.resolved_object.vocab_file.asset_path.numpy()\n",
    "do_lower_case = bert_layer.resolved_object.do_lower_case.numpy()\n",
    "import tokenization\n",
    "tokenizer=tokenization.FullTokenizer(vocab_file,do_lower_case )"
   ]
  },
  {
   "cell_type": "code",
   "execution_count": null,
   "id": "occBycFCXHWc",
   "metadata": {
    "id": "occBycFCXHWc"
   },
   "outputs": [],
   "source": [
    "def mask_and_segment(text_array,max_seq_length):\n",
    "  X_mask=[]\n",
    "  X_segment=[]\n",
    "  X_tokens=[]\n",
    "  for t in text_array:\n",
    "      token = tokenizer.tokenize(t)\n",
    "      if len(token)==max_seq_length-2:\n",
    "              tokens = ['[CLS]',*token,'[SEP]']\n",
    "      elif len(token)>max_seq_length-2:\n",
    "              tokens = ['[CLS]',*token[:max_seq_length-2],'[SEP]']\n",
    "      else:\n",
    "              pad_len = (max_seq_length-2)-len(token)\n",
    "              pads = ['[PAD]']*pad_len\n",
    "              tokens = ['[CLS]',*token,*pads,'[SEP]']\n",
    "      mask = [1 if i!='[PAD]' else 0 for i in tokens]\n",
    "      segment = [0]*max_seq_length\n",
    "      tokens = tokenizer.convert_tokens_to_ids(tokens)  \n",
    "      X_mask.append(mask)  \n",
    "      X_segment.append(segment)  \n",
    "      X_tokens.append(tokens)   \n",
    "  return (np.array(X_tokens),np.array(X_mask),np.array(X_segment))     "
   ]
  },
  {
   "cell_type": "code",
   "execution_count": null,
   "id": "yK-Stw0rXcNa",
   "metadata": {
    "id": "yK-Stw0rXcNa"
   },
   "outputs": [],
   "source": [
    "train_titles_tokens,train_titles_mask,train_titles_segment = mask_and_segment(train['preprocessed_title'],34)\n",
    "cv_titles_tokens,cv_titles_mask,cv_titles_segment = mask_and_segment(cv['preprocessed_title'],34)\n",
    "test_titles_tokens,test_titles_mask,test_titles_segment = mask_and_segment(test['preprocessed_title'],34)\n",
    "\n",
    "train_titles_pooled_output=bert_model.predict((train_titles_tokens,train_titles_mask,train_titles_segment))\n",
    "cv_titles_pooled_output=bert_model.predict((cv_titles_tokens,cv_titles_mask,cv_titles_segment))\n",
    "test_titles_pooled_output=bert_model.predict((test_titles_tokens,test_titles_mask,test_titles_segment))"
   ]
  },
  {
   "cell_type": "code",
   "execution_count": null,
   "id": "28yR_8UlZWoi",
   "metadata": {
    "id": "28yR_8UlZWoi"
   },
   "outputs": [],
   "source": [
    "max_seq_length = 200\n",
    "\n",
    "input_word_ids = Input(shape=(max_seq_length,), dtype=tf.int32, name=\"input_word_ids\")\n",
    "\n",
    "input_mask = Input(shape=(max_seq_length,), dtype=tf.int32, name=\"input_mask\")\n",
    "\n",
    "segment_ids = Input(shape=(max_seq_length,), dtype=tf.int32, name=\"segment_ids\")\n",
    "\n",
    "bert_layer = hub.KerasLayer(\"https://tfhub.dev/tensorflow/bert_en_uncased_L-12_H-768_A-12/1\", trainable=False)\n",
    "\n",
    "pooled_output, sequence_output = bert_layer([input_word_ids, input_mask, segment_ids])\n",
    "\n",
    "bert_model_2 = Model(inputs=[input_word_ids, input_mask, segment_ids], outputs=pooled_output)"
   ]
  },
  {
   "cell_type": "code",
   "execution_count": null,
   "id": "1yF0sByhjjmR",
   "metadata": {
    "id": "1yF0sByhjjmR"
   },
   "outputs": [],
   "source": [
    "train_description_tokens,train_description_mask,train_description_segment = mask_and_segment(train['preprocessed_description'],200)\n",
    "cv_description_tokens,cv_description_mask,cv_description_segment = mask_and_segment(cv['preprocessed_description'],200)\n",
    "test_description_tokens,test_description_mask,test_description_segment = mask_and_segment(test['preprocessed_description'],200)\n",
    "train_description_pooled_output=bert_model_2.predict((train_description_tokens,train_description_mask,train_description_segment))\n",
    "cv_description_pooled_output=bert_model_2.predict((cv_description_tokens,cv_description_mask,cv_description_segment))\n",
    "test_description_pooled_output=bert_model_2.predict((test_description_tokens,test_description_mask,test_description_segment))"
   ]
  },
  {
   "cell_type": "code",
   "execution_count": null,
   "id": "D4xcl_RjnhV6",
   "metadata": {
    "id": "D4xcl_RjnhV6"
   },
   "outputs": [],
   "source": [
    "train_attributes_tokens,train_attributes_mask,train_attributes_segment = mask_and_segment(train['preprocessed_attributes'],200)\n",
    "cv_attributes_tokens,cv_attributes_mask,cv_attributes_segment = mask_and_segment(cv['preprocessed_attributes'],200)\n",
    "test_attributes_tokens,test_attributes_mask,test_attributes_segment = mask_and_segment(test['preprocessed_attributes'],200)\n",
    "\n",
    "train_attributes_pooled_output=bert_model_2.predict((train_attributes_tokens,train_attributes_mask,train_attributes_segment))\n",
    "cv_attributes_pooled_output=bert_model_2.predict((cv_attributes_tokens,cv_attributes_mask,cv_attributes_segment))\n",
    "test_attributes_pooled_output=bert_model_2.predict((test_attributes_tokens,test_attributes_mask,test_attributes_segment))"
   ]
  },
  {
   "cell_type": "code",
   "execution_count": null,
   "id": "McgAgrfrcE1H",
   "metadata": {
    "id": "McgAgrfrcE1H"
   },
   "outputs": [],
   "source": [
    "max_seq_length = 17\n",
    "\n",
    "input_word_ids = Input(shape=(max_seq_length,), dtype=tf.int32)\n",
    "\n",
    "input_mask = Input(shape=(max_seq_length,), dtype=tf.int32)\n",
    "\n",
    "segment_ids = Input(shape=(max_seq_length,), dtype=tf.int32, name=\"segment_ids\")\n",
    "\n",
    "bert_layer = hub.KerasLayer(\"https://tfhub.dev/tensorflow/bert_en_uncased_L-12_H-768_A-12/1\", trainable=False)\n",
    "\n",
    "pooled_output, sequence_output = bert_layer([input_word_ids, input_mask, segment_ids])\n",
    "\n",
    "bert_model_3 = Model(inputs=[input_word_ids, input_mask, segment_ids], outputs=pooled_output)"
   ]
  },
  {
   "cell_type": "code",
   "execution_count": null,
   "id": "VOXyi0tMcRC1",
   "metadata": {
    "id": "VOXyi0tMcRC1"
   },
   "outputs": [],
   "source": [
    "train_search_term_tokens,train_search_term_mask,train_search_term_segment = mask_and_segment(train['search_term'],17)\n",
    "cv_search_term_tokens,cv_search_term_mask,cv_search_term_segment = mask_and_segment(cv['search_term'],17)\n",
    "test_search_term_tokens,test_search_term_mask,test_search_term_segment = mask_and_segment(test['search_term'],17)\n",
    "\n",
    "train_search_term_pooled_output=bert_model_3.predict((train_search_term_tokens,train_search_term_mask,train_search_term_segment))\n",
    "cv_search_term_pooled_output=bert_model_3.predict((cv_search_term_tokens,cv_search_term_mask,cv_search_term_segment))\n",
    "test_search_term_pooled_output=bert_model_3.predict((test_search_term_tokens,test_search_term_mask,test_search_term_segment))"
   ]
  },
  {
   "cell_type": "code",
   "execution_count": null,
   "id": "B8HNSdXti5U9",
   "metadata": {
    "colab": {
     "base_uri": "https://localhost:8080/"
    },
    "id": "B8HNSdXti5U9",
    "outputId": "e8b1a50e-a033-4215-a97a-f0e80a37b8a0"
   },
   "outputs": [
    {
     "name": "stdout",
     "output_type": "stream",
     "text": [
      "Model: \"model\"\n",
      "__________________________________________________________________________________________________\n",
      " Layer (type)                   Output Shape         Param #     Connected to                     \n",
      "==================================================================================================\n",
      " input_2 (InputLayer)           [(None, 768)]        0           []                               \n",
      "                                                                                                  \n",
      " input_3 (InputLayer)           [(None, 768)]        0           []                               \n",
      "                                                                                                  \n",
      " input_4 (InputLayer)           [(None, 768)]        0           []                               \n",
      "                                                                                                  \n",
      " input_1 (InputLayer)           [(None, 768)]        0           []                               \n",
      "                                                                                                  \n",
      " dropout (Dropout)              (None, 768)          0           ['input_2[0][0]']                \n",
      "                                                                                                  \n",
      " dropout_1 (Dropout)            (None, 768)          0           ['input_3[0][0]']                \n",
      "                                                                                                  \n",
      " dropout_2 (Dropout)            (None, 768)          0           ['input_4[0][0]']                \n",
      "                                                                                                  \n",
      " dense (Dense)                  (None, 256)          196864      ['input_1[0][0]']                \n",
      "                                                                                                  \n",
      " dense_1 (Dense)                (None, 256)          196864      ['dropout[0][0]']                \n",
      "                                                                                                  \n",
      " dense_2 (Dense)                (None, 256)          196864      ['dropout_1[0][0]']              \n",
      "                                                                                                  \n",
      " dense_3 (Dense)                (None, 256)          196864      ['dropout_2[0][0]']              \n",
      "                                                                                                  \n",
      " concatenate (Concatenate)      (None, 1024)         0           ['dense[0][0]',                  \n",
      "                                                                  'dense_1[0][0]',                \n",
      "                                                                  'dense_2[0][0]',                \n",
      "                                                                  'dense_3[0][0]']                \n",
      "                                                                                                  \n",
      " dense_4 (Dense)                (None, 128)          131200      ['concatenate[0][0]']            \n",
      "                                                                                                  \n",
      " dense_5 (Dense)                (None, 64)           8256        ['dense_4[0][0]']                \n",
      "                                                                                                  \n",
      " dense_6 (Dense)                (None, 1)            65          ['dense_5[0][0]']                \n",
      "                                                                                                  \n",
      "==================================================================================================\n",
      "Total params: 926,977\n",
      "Trainable params: 926,977\n",
      "Non-trainable params: 0\n",
      "__________________________________________________________________________________________________\n"
     ]
    }
   ],
   "source": [
    "from tensorflow.keras.layers import Input, Dense, Activation, Dropout,BatchNormalization, concatenate,Dot\n",
    "from tensorflow.keras.callbacks import ModelCheckpoint,EarlyStopping,LearningRateScheduler\n",
    "from tensorflow.keras.models import Model,load_model\n",
    "from tensorflow.keras import backend\n",
    "backend.clear_session()\n",
    "\n",
    "title_input = Input((768,))\n",
    "title_dense = Dense(256,activation='linear')(title_input)\n",
    "\n",
    "description_input = Input((768,))\n",
    "drop_out = Dropout(.25)(description_input)\n",
    "description_dense = Dense(256,activation='linear')(drop_out)\n",
    "\n",
    "attribute_input = Input((768,))\n",
    "drop_out = Dropout(.25)(attribute_input)\n",
    "attribute_dense = Dense(256,activation='linear')(drop_out)\n",
    "\n",
    "search_term_input = Input((768,))\n",
    "drop_out = Dropout(.25)(search_term_input)\n",
    "search_term_dense = Dense(256,activation='linear')(drop_out)\n",
    "\n",
    "concat_layer = concatenate([title_dense,description_dense,attribute_dense,search_term_dense])\n",
    "dense_layer = Dense(128,activation=\"linear\")(concat_layer)\n",
    "dense_layer = Dense(64,activation=\"relu\")(dense_layer)\n",
    "output_layer = Dense(1,activation='linear')(dense_layer)\n",
    "model = Model(inputs = [title_input,description_input,attribute_input,search_term_input],outputs = output_layer)\n",
    "model.summary()"
   ]
  },
  {
   "cell_type": "code",
   "execution_count": null,
   "id": "-y5ei-GcqPXI",
   "metadata": {
    "id": "-y5ei-GcqPXI"
   },
   "outputs": [],
   "source": [
    "model.compile(\n",
    "    optimizer=Adam(learning_rate=0.00001),\n",
    "    loss='mse',\n",
    "    metrics=[RootMeanSquaredError()])"
   ]
  },
  {
   "cell_type": "code",
   "execution_count": null,
   "id": "BB-kjusduDL3",
   "metadata": {
    "colab": {
     "base_uri": "https://localhost:8080/"
    },
    "id": "BB-kjusduDL3",
    "outputId": "22290cc9-ff58-47e0-e185-8542bc8dd011"
   },
   "outputs": [
    {
     "name": "stdout",
     "output_type": "stream",
     "text": [
      "Epoch 1/35\n",
      "47/47 [==============================] - 1s 14ms/step - loss: 2.6031 - root_mean_squared_error: 1.6134 - val_loss: 0.4092 - val_root_mean_squared_error: 0.6397\n",
      "Epoch 2/35\n",
      "47/47 [==============================] - 0s 10ms/step - loss: 0.6323 - root_mean_squared_error: 0.7952 - val_loss: 0.3383 - val_root_mean_squared_error: 0.5816\n",
      "Epoch 3/35\n",
      "47/47 [==============================] - 0s 9ms/step - loss: 0.5555 - root_mean_squared_error: 0.7453 - val_loss: 0.3235 - val_root_mean_squared_error: 0.5688\n",
      "Epoch 4/35\n",
      "47/47 [==============================] - 0s 9ms/step - loss: 0.5172 - root_mean_squared_error: 0.7192 - val_loss: 0.3104 - val_root_mean_squared_error: 0.5571\n",
      "Epoch 5/35\n",
      "47/47 [==============================] - 0s 9ms/step - loss: 0.4955 - root_mean_squared_error: 0.7039 - val_loss: 0.3040 - val_root_mean_squared_error: 0.5513\n",
      "Epoch 6/35\n",
      "47/47 [==============================] - 0s 9ms/step - loss: 0.4730 - root_mean_squared_error: 0.6878 - val_loss: 0.2988 - val_root_mean_squared_error: 0.5466\n",
      "Epoch 7/35\n",
      "47/47 [==============================] - 0s 9ms/step - loss: 0.4577 - root_mean_squared_error: 0.6766 - val_loss: 0.2947 - val_root_mean_squared_error: 0.5429\n",
      "Epoch 8/35\n",
      "47/47 [==============================] - 0s 9ms/step - loss: 0.4397 - root_mean_squared_error: 0.6631 - val_loss: 0.2931 - val_root_mean_squared_error: 0.5414\n",
      "Epoch 9/35\n",
      "47/47 [==============================] - 0s 9ms/step - loss: 0.4346 - root_mean_squared_error: 0.6593 - val_loss: 0.2903 - val_root_mean_squared_error: 0.5388\n",
      "Epoch 10/35\n",
      "47/47 [==============================] - 0s 9ms/step - loss: 0.4215 - root_mean_squared_error: 0.6492 - val_loss: 0.2881 - val_root_mean_squared_error: 0.5367\n",
      "Epoch 11/35\n",
      "47/47 [==============================] - 0s 9ms/step - loss: 0.4157 - root_mean_squared_error: 0.6447 - val_loss: 0.2870 - val_root_mean_squared_error: 0.5358\n",
      "Epoch 12/35\n",
      "47/47 [==============================] - 0s 9ms/step - loss: 0.4083 - root_mean_squared_error: 0.6390 - val_loss: 0.2860 - val_root_mean_squared_error: 0.5348\n",
      "Epoch 13/35\n",
      "47/47 [==============================] - 0s 9ms/step - loss: 0.4067 - root_mean_squared_error: 0.6378 - val_loss: 0.2852 - val_root_mean_squared_error: 0.5340\n",
      "Epoch 14/35\n",
      "47/47 [==============================] - 0s 9ms/step - loss: 0.3985 - root_mean_squared_error: 0.6313 - val_loss: 0.2847 - val_root_mean_squared_error: 0.5336\n",
      "Epoch 15/35\n",
      "47/47 [==============================] - 0s 9ms/step - loss: 0.3909 - root_mean_squared_error: 0.6252 - val_loss: 0.2841 - val_root_mean_squared_error: 0.5330\n",
      "Epoch 16/35\n",
      "47/47 [==============================] - 0s 9ms/step - loss: 0.3858 - root_mean_squared_error: 0.6211 - val_loss: 0.2839 - val_root_mean_squared_error: 0.5328\n",
      "Epoch 17/35\n",
      "47/47 [==============================] - 0s 9ms/step - loss: 0.3837 - root_mean_squared_error: 0.6194 - val_loss: 0.2842 - val_root_mean_squared_error: 0.5331\n",
      "Epoch 18/35\n",
      "47/47 [==============================] - 0s 9ms/step - loss: 0.3779 - root_mean_squared_error: 0.6147 - val_loss: 0.2827 - val_root_mean_squared_error: 0.5317\n",
      "Epoch 19/35\n",
      "47/47 [==============================] - 0s 9ms/step - loss: 0.3764 - root_mean_squared_error: 0.6135 - val_loss: 0.2821 - val_root_mean_squared_error: 0.5312\n",
      "Epoch 20/35\n",
      "47/47 [==============================] - 0s 9ms/step - loss: 0.3674 - root_mean_squared_error: 0.6062 - val_loss: 0.2830 - val_root_mean_squared_error: 0.5319\n",
      "Epoch 21/35\n",
      "47/47 [==============================] - 0s 9ms/step - loss: 0.3682 - root_mean_squared_error: 0.6068 - val_loss: 0.2823 - val_root_mean_squared_error: 0.5313\n"
     ]
    }
   ],
   "source": [
    "history4 = model.fit(x=[train_titles_pooled_output,train_description_pooled_output,train_attributes_pooled_output,train_search_term_pooled_output],y=y_train,epochs=35,batch_size=1024,callbacks=[EarlyStopping(patience=2,restore_best_weights=True)] ,validation_data=(\n",
    "    [cv_titles_pooled_output,cv_description_pooled_output,cv_attributes_pooled_output,cv_search_term_pooled_output],y_cv\n",
    "))"
   ]
  },
  {
   "cell_type": "code",
   "execution_count": null,
   "id": "L2QvIhwcrpmQ",
   "metadata": {
    "colab": {
     "base_uri": "https://localhost:8080/",
     "height": 295
    },
    "id": "L2QvIhwcrpmQ",
    "outputId": "8ca8fe9e-7f5e-48a5-9365-52730ce6f943"
   },
   "outputs": [
    {
     "data": {
      "image/png": "[encoded data removed]",
      "text/plain": [
       "<Figure size 432x288 with 1 Axes>"
      ]
     },
     "metadata": {
      "needs_background": "light"
     },
     "output_type": "display_data"
    }
   ],
   "source": [
    "plt.plot(range(len(history4.history[\"loss\"])), history4.history[\"loss\"], history4.history[\"val_loss\"])\n",
    "plt.xlabel('Epoch')\n",
    "plt.ylabel('Loss')\n",
    "plt.legend([\"Training loss\", \"Validation loss\"])\n",
    "plt.title('BERT')\n",
    "plt.show()"
   ]
  },
  {
   "cell_type": "code",
   "execution_count": null,
   "id": "xpU4UMoArzRV",
   "metadata": {
    "colab": {
     "base_uri": "https://localhost:8080/"
    },
    "id": "xpU4UMoArzRV",
    "outputId": "30d01928-4205-4004-fbc4-4038b07bcf87"
   },
   "outputs": [
    {
     "name": "stdout",
     "output_type": "stream",
     "text": [
      "RMSE on test data : 0.527874183274473\n",
      "MSE on test data  : 0.27865115336769186\n",
      "MAE on test data  : 0.39746900558471676\n"
     ]
    }
   ],
   "source": [
    "y_pred = model.predict([test_titles_pooled_output,test_description_pooled_output,test_attributes_pooled_output,test_search_term_pooled_output])\n",
    "\n",
    "rmse = mean_squared_error(y_pred,y_test,squared=False)\n",
    "mse = mean_squared_error(y_pred,y_test)\n",
    "mae = median_absolute_error(y_pred,y_test)\n",
    "\n",
    "print(\"RMSE on test data :\",rmse)\n",
    "print(\"MSE on test data  :\",mse)\n",
    "print(\"MAE on test data  :\",mae)\n"
   ]
  },
  {
   "cell_type": "code",
   "execution_count": null,
   "id": "v0KzD4BPvwMc",
   "metadata": {
    "colab": {
     "base_uri": "https://localhost:8080/",
     "height": 312
    },
    "id": "v0KzD4BPvwMc",
    "outputId": "31ddd8e9-d5d4-4ebe-c53e-417a8daa7edb"
   },
   "outputs": [
    {
     "data": {
      "text/plain": [
       "Text(0.5, 1.0, 'Analysis on Conv1D')"
      ]
     },
     "execution_count": 383,
     "metadata": {},
     "output_type": "execute_result"
    },
    {
     "data": {
      "image/png": "[encoded data removed]",
      "text/plain": [
       "<Figure size 432x288 with 1 Axes>"
      ]
     },
     "metadata": {
      "needs_background": "light"
     },
     "output_type": "display_data"
    }
   ],
   "source": [
    "plt.scatter(y_pred[:40],y_test[:40])\n",
    "plt.xlabel(\"Predicted Relevance\")\n",
    "plt.ylabel(\"Actual Relevance\")\n",
    "plt.title(\"Analysis on Conv1D\")\n",
    "\n",
    "#this plot is actually for bert, not conv1D. forgot to change.\n",
    "#this plot is actually for bert, not conv1D. forgot to change. \n",
    "#this plot is actually for bert, not conv1D. forgot to change. \n",
    "#this plot is actually for bert, not conv1D. forgot to change. \n",
    "#this plot is actually for bert, not conv1D. forgot to change. \n",
    "#this plot is actually for bert, not conv1D. forgot to change. I cannot recompute as its expensive to train naive bert model.\n",
    "# my system is crashing. Im sorry."
   ]
  },
  {
   "cell_type": "code",
   "execution_count": null,
   "id": "y9kanf1wsJjs",
   "metadata": {
    "colab": {
     "base_uri": "https://localhost:8080/"
    },
    "id": "y9kanf1wsJjs",
    "outputId": "11af05cf-bace-4619-e052-bcdaa2552526"
   },
   "outputs": [
    {
     "name": "stdout",
     "output_type": "stream",
     "text": [
      "Time taken by Bert model to predict the relevance:  0.2791740894317627\n"
     ]
    }
   ],
   "source": [
    "t = time.time()\n",
    "\n",
    "titles_tokens,titles_mask,titles_segment = mask_and_segment(test['preprocessed_title'].values[0:1],34)\n",
    "descr_tokens,descr_mask,descr_segment = mask_and_segment(test['preprocessed_description'].values[0:1],200)\n",
    "attr_tokens,attr_mask,attr_segment = mask_and_segment(test['preprocessed_attributes'].values[0:1],200)\n",
    "search_tokens,search_mask,search_segment = mask_and_segment(test['search_term'].values[0:1],17)\n",
    "\n",
    "title_pooled_output=bert_model.predict((titles_tokens,titles_mask,titles_segment))\n",
    "descr_pooled_output=bert_model_2.predict((descr_tokens,descr_mask,descr_segment))\n",
    "attr_pooled_output=bert_model_2.predict((attr_tokens,attr_mask,attr_segment ))\n",
    "search_term_pooled_output=bert_model_3.predict((search_tokens,search_mask,search_segment))\n",
    "\n",
    "pred = model.predict([title_pooled_output,descr_pooled_output,attr_pooled_output,search_term_pooled_output])\n",
    "time_taken = time.time()-t\n",
    "print(\"Time taken by Bert model to predict the relevance: \",time_taken)"
   ]
  },
  {
   "cell_type": "markdown",
   "id": "ITxYg8UVRYrQ",
   "metadata": {
    "id": "ITxYg8UVRYrQ"
   },
   "source": [
    "### Sentence BERT"
   ]
  },
  {
   "cell_type": "code",
   "execution_count": null,
   "id": "PluJKIqBTxqV",
   "metadata": {
    "id": "PluJKIqBTxqV"
   },
   "outputs": [],
   "source": [
    "!pip install sentence_transformers"
   ]
  },
  {
   "cell_type": "code",
   "execution_count": 67,
   "id": "hueTSnEITBRB",
   "metadata": {
    "id": "hueTSnEITBRB"
   },
   "outputs": [],
   "source": [
    "from sentence_transformers import SentenceTransformer, util\n",
    "sbert_model = SentenceTransformer('all-mpnet-base-v2')"
   ]
  },
  {
   "cell_type": "code",
   "execution_count": 31,
   "id": "Wm3WyQZEaVKR",
   "metadata": {
    "id": "Wm3WyQZEaVKR"
   },
   "outputs": [],
   "source": [
    "train_title_encodings = sbert_model.encode(train[\"preprocessed_title\"].values)\n",
    "cv_title_encodings = sbert_model.encode(cv[\"preprocessed_title\"].values)\n",
    "test_title_encodings = sbert_model.encode(test[\"preprocessed_title\"].values)"
   ]
  },
  {
   "cell_type": "code",
   "execution_count": 32,
   "id": "UfZdPGTNT6zw",
   "metadata": {
    "id": "UfZdPGTNT6zw"
   },
   "outputs": [],
   "source": [
    "train_description_encodings = sbert_model.encode(train[\"preprocessed_description\"].values)\n",
    "cv_description_encodings = sbert_model.encode(cv[\"preprocessed_description\"].values)\n",
    "test_description_encodings = sbert_model.encode(test[\"preprocessed_description\"].values)"
   ]
  },
  {
   "cell_type": "code",
   "execution_count": 33,
   "id": "oaIStlt_t2sh",
   "metadata": {
    "id": "oaIStlt_t2sh"
   },
   "outputs": [],
   "source": [
    "train_attributes_encodings = sbert_model.encode(train[\"preprocessed_attributes\"].values)\n",
    "cv_attributes_encodings = sbert_model.encode(cv[\"preprocessed_attributes\"].values)\n",
    "test_attributes_encodings = sbert_model.encode(test[\"preprocessed_attributes\"].values)"
   ]
  },
  {
   "cell_type": "code",
   "execution_count": 34,
   "id": "ob977sojabhN",
   "metadata": {
    "id": "ob977sojabhN"
   },
   "outputs": [],
   "source": [
    "train_search_encodings = sbert_model.encode(train[\"search_term\"].values)\n",
    "cv_search_encodings = sbert_model.encode(cv[\"search_term\"].values)\n",
    "test_search_encodings = sbert_model.encode(test[\"search_term\"].values)"
   ]
  },
  {
   "cell_type": "code",
   "execution_count": null,
   "id": "oJavjFihay1B",
   "metadata": {
    "id": "oJavjFihay1B"
   },
   "outputs": [],
   "source": [
    "train_search_encodings.shape"
   ]
  },
  {
   "cell_type": "code",
   "execution_count": 54,
   "id": "LjsDzm-qjCgj",
   "metadata": {
    "colab": {
     "base_uri": "https://localhost:8080/"
    },
    "id": "LjsDzm-qjCgj",
    "outputId": "796908dd-f1bf-4e74-b380-9d6f54b7fb89"
   },
   "outputs": [
    {
     "name": "stdout",
     "output_type": "stream",
     "text": [
      "Model: \"model\"\n",
      "__________________________________________________________________________________________________\n",
      " Layer (type)                   Output Shape         Param #     Connected to                     \n",
      "==================================================================================================\n",
      " input_2 (InputLayer)           [(None, 768)]        0           []                               \n",
      "                                                                                                  \n",
      " input_3 (InputLayer)           [(None, 768)]        0           []                               \n",
      "                                                                                                  \n",
      " input_4 (InputLayer)           [(None, 768)]        0           []                               \n",
      "                                                                                                  \n",
      " input_1 (InputLayer)           [(None, 768)]        0           []                               \n",
      "                                                                                                  \n",
      " dropout (Dropout)              (None, 768)          0           ['input_2[0][0]']                \n",
      "                                                                                                  \n",
      " dropout_1 (Dropout)            (None, 768)          0           ['input_3[0][0]']                \n",
      "                                                                                                  \n",
      " dropout_2 (Dropout)            (None, 768)          0           ['input_4[0][0]']                \n",
      "                                                                                                  \n",
      " dense (Dense)                  (None, 768)          590592      ['input_1[0][0]']                \n",
      "                                                                                                  \n",
      " dense_1 (Dense)                (None, 768)          590592      ['dropout[0][0]']                \n",
      "                                                                                                  \n",
      " dense_2 (Dense)                (None, 768)          590592      ['dropout_1[0][0]']              \n",
      "                                                                                                  \n",
      " dense_3 (Dense)                (None, 768)          590592      ['dropout_2[0][0]']              \n",
      "                                                                                                  \n",
      " concatenate (Concatenate)      (None, 3072)         0           ['dense[0][0]',                  \n",
      "                                                                  'dense_1[0][0]',                \n",
      "                                                                  'dense_2[0][0]',                \n",
      "                                                                  'dense_3[0][0]']                \n",
      "                                                                                                  \n",
      " dense_4 (Dense)                (None, 768)          2360064     ['concatenate[0][0]']            \n",
      "                                                                                                  \n",
      " dense_5 (Dense)                (None, 512)          393728      ['dense_4[0][0]']                \n",
      "                                                                                                  \n",
      " dense_6 (Dense)                (None, 128)          65664       ['dense_5[0][0]']                \n",
      "                                                                                                  \n",
      " dense_7 (Dense)                (None, 1)            129         ['dense_6[0][0]']                \n",
      "                                                                                                  \n",
      "==================================================================================================\n",
      "Total params: 5,181,953\n",
      "Trainable params: 5,181,953\n",
      "Non-trainable params: 0\n",
      "__________________________________________________________________________________________________\n"
     ]
    }
   ],
   "source": [
    "from tensorflow.keras.layers import Input, Dense, Activation, Dropout,BatchNormalization, concatenate,Dot\n",
    "from tensorflow.keras.callbacks import EarlyStopping\n",
    "from tensorflow.keras.models import Model,load_model\n",
    "from tensorflow.keras import backend\n",
    "backend.clear_session()\n",
    "\n",
    "title_input = Input((768,))\n",
    "title_dense = Dense(768,activation='linear')(title_input)\n",
    "\n",
    "\n",
    "description_input = Input((768,))\n",
    "drop_out = Dropout(.25)(description_input)\n",
    "description_dense = Dense(768,activation='linear')(drop_out)\n",
    "\n",
    "attribute_input = Input((768,))\n",
    "drop_out = Dropout(.25)(attribute_input)\n",
    "attribute_dense = Dense(768,activation='linear')(drop_out)\n",
    "\n",
    "\n",
    "search_term_input = Input((768,))\n",
    "drop_out = Dropout(.25)(search_term_input)\n",
    "search_term_dense = Dense(768,activation='linear')(drop_out)\n",
    "\n",
    "concat_layer = concatenate([title_dense,description_dense,attribute_dense,search_term_dense])\n",
    "dense_layer = Dense(768,activation=\"relu\")(concat_layer)\n",
    "dense_layer = Dense(512,activation=\"linear\")(dense_layer)\n",
    "dense_layer = Dense(128,activation=\"relu\")(dense_layer)\n",
    "output_layer = Dense(1,activation='linear')(dense_layer)\n",
    "model = Model(inputs = [title_input,description_input,attribute_input,search_term_input],outputs = output_layer)\n",
    "model.summary()"
   ]
  },
  {
   "cell_type": "code",
   "execution_count": 55,
   "id": "7SoaHwSalq2F",
   "metadata": {
    "id": "7SoaHwSalq2F"
   },
   "outputs": [],
   "source": [
    "from tensorflow.keras.optimizers import Adam\n",
    "from tensorflow.keras.metrics import RootMeanSquaredError"
   ]
  },
  {
   "cell_type": "code",
   "execution_count": 56,
   "id": "chDX0MsHlYJ9",
   "metadata": {
    "id": "chDX0MsHlYJ9"
   },
   "outputs": [],
   "source": [
    "model.compile(\n",
    "    optimizer=Adam(learning_rate=0.0001),\n",
    "    loss='mse',\n",
    "    metrics=[RootMeanSquaredError()])"
   ]
  },
  {
   "cell_type": "code",
   "execution_count": 57,
   "id": "Xw-wGMb-mcMh",
   "metadata": {
    "id": "Xw-wGMb-mcMh"
   },
   "outputs": [],
   "source": [
    "y_train = train[\"relevance\"].values.reshape(-1,1)\n",
    "y_cv = cv[\"relevance\"].values.reshape(-1,1)\n",
    "y_test = test[\"relevance\"].values.reshape(-1,1)"
   ]
  },
  {
   "cell_type": "code",
   "execution_count": 58,
   "id": "V_RdsxEfCXgb",
   "metadata": {
    "colab": {
     "base_uri": "https://localhost:8080/"
    },
    "id": "V_RdsxEfCXgb",
    "outputId": "d882f3f2-78ad-4fe9-ff80-f9f656296b57"
   },
   "outputs": [
    {
     "name": "stdout",
     "output_type": "stream",
     "text": [
      "Epoch 1/30\n",
      "741/741 [==============================] - 4s 5ms/step - loss: 0.3345 - root_mean_squared_error: 0.5784 - val_loss: 0.2611 - val_root_mean_squared_error: 0.5109 - lr: 1.0000e-04\n",
      "Epoch 2/30\n",
      "741/741 [==============================] - 3s 5ms/step - loss: 0.2486 - root_mean_squared_error: 0.4986 - val_loss: 0.2505 - val_root_mean_squared_error: 0.5005 - lr: 1.0000e-04\n",
      "Epoch 3/30\n",
      "733/741 [============================>.] - ETA: 0s - loss: 0.2290 - root_mean_squared_error: 0.4785\n",
      "Epoch 00003: ReduceLROnPlateau reducing learning rate to 9.999999747378752e-06.\n",
      "741/741 [==============================] - 3s 4ms/step - loss: 0.2288 - root_mean_squared_error: 0.4784 - val_loss: 0.2578 - val_root_mean_squared_error: 0.5077 - lr: 1.0000e-04\n",
      "Epoch 4/30\n",
      "741/741 [==============================] - 3s 4ms/step - loss: 0.1996 - root_mean_squared_error: 0.4468 - val_loss: 0.2328 - val_root_mean_squared_error: 0.4825 - lr: 1.0000e-05\n",
      "Epoch 5/30\n",
      "741/741 [==============================] - ETA: 0s - loss: 0.1921 - root_mean_squared_error: 0.4383\n",
      "Epoch 00005: ReduceLROnPlateau reducing learning rate to 1e-06.\n",
      "741/741 [==============================] - 3s 4ms/step - loss: 0.1921 - root_mean_squared_error: 0.4383 - val_loss: 0.2345 - val_root_mean_squared_error: 0.4843 - lr: 1.0000e-05\n",
      "Epoch 6/30\n",
      "741/741 [==============================] - 3s 4ms/step - loss: 0.1870 - root_mean_squared_error: 0.4324 - val_loss: 0.2338 - val_root_mean_squared_error: 0.4835 - lr: 1.0000e-06\n",
      "Epoch 7/30\n",
      "741/741 [==============================] - 3s 4ms/step - loss: 0.1860 - root_mean_squared_error: 0.4313 - val_loss: 0.2325 - val_root_mean_squared_error: 0.4822 - lr: 1.0000e-06\n",
      "Epoch 8/30\n",
      "741/741 [==============================] - 3s 4ms/step - loss: 0.1848 - root_mean_squared_error: 0.4299 - val_loss: 0.2340 - val_root_mean_squared_error: 0.4837 - lr: 1.0000e-06\n",
      "Epoch 9/30\n",
      "741/741 [==============================] - 3s 4ms/step - loss: 0.1845 - root_mean_squared_error: 0.4295 - val_loss: 0.2335 - val_root_mean_squared_error: 0.4833 - lr: 1.0000e-06\n",
      "Epoch 10/30\n",
      "741/741 [==============================] - 3s 4ms/step - loss: 0.1838 - root_mean_squared_error: 0.4287 - val_loss: 0.2341 - val_root_mean_squared_error: 0.4839 - lr: 1.0000e-06\n",
      "Epoch 11/30\n",
      "741/741 [==============================] - 3s 4ms/step - loss: 0.1838 - root_mean_squared_error: 0.4287 - val_loss: 0.2329 - val_root_mean_squared_error: 0.4826 - lr: 1.0000e-06\n",
      "Epoch 12/30\n",
      "741/741 [==============================] - 3s 4ms/step - loss: 0.1832 - root_mean_squared_error: 0.4281 - val_loss: 0.2347 - val_root_mean_squared_error: 0.4845 - lr: 1.0000e-06\n",
      "Epoch 13/30\n",
      "741/741 [==============================] - 3s 4ms/step - loss: 0.1822 - root_mean_squared_error: 0.4269 - val_loss: 0.2343 - val_root_mean_squared_error: 0.4840 - lr: 1.0000e-06\n",
      "Epoch 14/30\n",
      "741/741 [==============================] - 3s 4ms/step - loss: 0.1814 - root_mean_squared_error: 0.4259 - val_loss: 0.2327 - val_root_mean_squared_error: 0.4824 - lr: 1.0000e-06\n",
      "Epoch 15/30\n",
      "741/741 [==============================] - 3s 4ms/step - loss: 0.1818 - root_mean_squared_error: 0.4264 - val_loss: 0.2335 - val_root_mean_squared_error: 0.4832 - lr: 1.0000e-06\n",
      "Epoch 16/30\n",
      "741/741 [==============================] - 3s 4ms/step - loss: 0.1808 - root_mean_squared_error: 0.4252 - val_loss: 0.2334 - val_root_mean_squared_error: 0.4831 - lr: 1.0000e-06\n",
      "Epoch 17/30\n",
      "741/741 [==============================] - 4s 5ms/step - loss: 0.1805 - root_mean_squared_error: 0.4249 - val_loss: 0.2332 - val_root_mean_squared_error: 0.4829 - lr: 1.0000e-06\n",
      "Epoch 18/30\n",
      "741/741 [==============================] - 3s 4ms/step - loss: 0.1805 - root_mean_squared_error: 0.4249 - val_loss: 0.2330 - val_root_mean_squared_error: 0.4827 - lr: 1.0000e-06\n",
      "Epoch 19/30\n",
      "741/741 [==============================] - 4s 5ms/step - loss: 0.1796 - root_mean_squared_error: 0.4238 - val_loss: 0.2341 - val_root_mean_squared_error: 0.4838 - lr: 1.0000e-06\n",
      "Epoch 20/30\n",
      "741/741 [==============================] - 3s 4ms/step - loss: 0.1793 - root_mean_squared_error: 0.4234 - val_loss: 0.2323 - val_root_mean_squared_error: 0.4819 - lr: 1.0000e-06\n",
      "Epoch 21/30\n",
      "741/741 [==============================] - 4s 5ms/step - loss: 0.1785 - root_mean_squared_error: 0.4224 - val_loss: 0.2333 - val_root_mean_squared_error: 0.4830 - lr: 1.0000e-06\n",
      "Epoch 22/30\n",
      "741/741 [==============================] - 3s 5ms/step - loss: 0.1789 - root_mean_squared_error: 0.4229 - val_loss: 0.2342 - val_root_mean_squared_error: 0.4839 - lr: 1.0000e-06\n",
      "Epoch 23/30\n",
      "741/741 [==============================] - 3s 4ms/step - loss: 0.1784 - root_mean_squared_error: 0.4223 - val_loss: 0.2343 - val_root_mean_squared_error: 0.4840 - lr: 1.0000e-06\n",
      "Epoch 24/30\n",
      "741/741 [==============================] - 3s 4ms/step - loss: 0.1782 - root_mean_squared_error: 0.4221 - val_loss: 0.2323 - val_root_mean_squared_error: 0.4820 - lr: 1.0000e-06\n",
      "Epoch 25/30\n",
      "741/741 [==============================] - 3s 4ms/step - loss: 0.1775 - root_mean_squared_error: 0.4213 - val_loss: 0.2332 - val_root_mean_squared_error: 0.4829 - lr: 1.0000e-06\n",
      "Epoch 26/30\n",
      "741/741 [==============================] - 3s 4ms/step - loss: 0.1765 - root_mean_squared_error: 0.4201 - val_loss: 0.2325 - val_root_mean_squared_error: 0.4821 - lr: 1.0000e-06\n",
      "Epoch 27/30\n",
      "741/741 [==============================] - 3s 4ms/step - loss: 0.1764 - root_mean_squared_error: 0.4200 - val_loss: 0.2317 - val_root_mean_squared_error: 0.4813 - lr: 1.0000e-06\n",
      "Epoch 28/30\n",
      "741/741 [==============================] - 3s 4ms/step - loss: 0.1753 - root_mean_squared_error: 0.4187 - val_loss: 0.2326 - val_root_mean_squared_error: 0.4822 - lr: 1.0000e-06\n",
      "Epoch 29/30\n",
      "741/741 [==============================] - 3s 4ms/step - loss: 0.1759 - root_mean_squared_error: 0.4194 - val_loss: 0.2333 - val_root_mean_squared_error: 0.4830 - lr: 1.0000e-06\n",
      "Epoch 30/30\n",
      "741/741 [==============================] - 3s 4ms/step - loss: 0.1747 - root_mean_squared_error: 0.4179 - val_loss: 0.2326 - val_root_mean_squared_error: 0.4823 - lr: 1.0000e-06\n"
     ]
    }
   ],
   "source": [
    "hisory5 = model.fit(x=[train_title_encodings,train_description_encodings,train_attributes_encodings,train_search_encodings],y=y_train,epochs=30,batch_size=64,callbacks=[ReduceLROnPlateau(monitor='val_loss', factor=0.1, patience=1, min_lr=0.000001, verbose=1, mode='min')] ,validation_data=(\n",
    "    [cv_title_encodings,cv_description_encodings,cv_attributes_encodings,cv_search_encodings],y_cv\n",
    "))"
   ]
  },
  {
   "cell_type": "code",
   "execution_count": 59,
   "id": "cI6QfF-4KGlw",
   "metadata": {
    "colab": {
     "base_uri": "https://localhost:8080/",
     "height": 295
    },
    "id": "cI6QfF-4KGlw",
    "outputId": "a8306473-7a4d-4fdd-a2b4-9e1502472dca"
   },
   "outputs": [
    {
     "data": {
      "image/png": "[encoded data removed]",
      "text/plain": [
       "<Figure size 432x288 with 1 Axes>"
      ]
     },
     "metadata": {
      "needs_background": "light"
     },
     "output_type": "display_data"
    }
   ],
   "source": [
    "plt.plot(range(len(hisory5.history[\"loss\"])), hisory5.history[\"loss\"], hisory5.history[\"val_loss\"])\n",
    "plt.xlabel('Epoch')\n",
    "plt.ylabel('Loss')\n",
    "plt.legend([\"Training loss\", \"Validation loss\"])\n",
    "plt.title('BERT')\n",
    "plt.show()"
   ]
  },
  {
   "cell_type": "code",
   "execution_count": 62,
   "id": "7286mPNCK6Q3",
   "metadata": {
    "colab": {
     "base_uri": "https://localhost:8080/"
    },
    "id": "7286mPNCK6Q3",
    "outputId": "83fec2d9-9059-4854-a941-124f5cbaec2e"
   },
   "outputs": [
    {
     "name": "stdout",
     "output_type": "stream",
     "text": [
      "RMSE on test data : 0.4807808525831549\n",
      "MSE on test data  : 0.2311502282105853\n",
      "MAE on test data  : 0.35337480068206784\n"
     ]
    }
   ],
   "source": [
    "y_pred = model.predict([test_title_encodings,test_description_encodings,test_attributes_encodings,test_search_encodings])\n",
    "\n",
    "\n",
    "rmse = mean_squared_error(y_pred,y_test,squared=False)\n",
    "mse = mean_squared_error(y_pred,y_test)\n",
    "mae = median_absolute_error(y_pred,y_test)\n",
    "\n",
    "print(\"RMSE on test data :\",rmse)\n",
    "print(\"MSE on test data  :\",mse)\n",
    "print(\"MAE on test data  :\",mae)"
   ]
  },
  {
   "cell_type": "code",
   "execution_count": 64,
   "id": "-ui-9lyJK6Yj",
   "metadata": {
    "colab": {
     "base_uri": "https://localhost:8080/",
     "height": 296
    },
    "id": "-ui-9lyJK6Yj",
    "outputId": "55f10176-0a5a-4cd6-c854-ee1017bfefbb"
   },
   "outputs": [
    {
     "data": {
      "text/plain": [
       "Text(0, 0.5, 'Actual Relevance')"
      ]
     },
     "execution_count": 64,
     "metadata": {},
     "output_type": "execute_result"
    },
    {
     "data": {
      "image/png": "[encoded data removed]",
      "text/plain": [
       "<Figure size 432x288 with 1 Axes>"
      ]
     },
     "metadata": {
      "needs_background": "light"
     },
     "output_type": "display_data"
    }
   ],
   "source": [
    "plt.scatter(y_pred[:40],y_test[:40])\n",
    "plt.xlabel(\"Predicted Relevance\")\n",
    "plt.ylabel(\"Actual Relevance\")"
   ]
  },
  {
   "cell_type": "code",
   "execution_count": 76,
   "id": "n0NNOKZRLsjb",
   "metadata": {
    "colab": {
     "base_uri": "https://localhost:8080/"
    },
    "id": "n0NNOKZRLsjb",
    "outputId": "685b0b85-5208-4222-8337-22154188fafb"
   },
   "outputs": [
    {
     "name": "stdout",
     "output_type": "stream",
     "text": [
      "Time taken by Sentence Bert model to predict the relevance:  0.13098597526550293\n"
     ]
    }
   ],
   "source": [
    "import time\n",
    "t = time.time()\n",
    "\n",
    "title_encodings = sbert_model.encode(test[\"preprocessed_title\"].values[:1])\n",
    "description_encodings = sbert_model.encode(test[\"preprocessed_description\"].values[:1])\n",
    "attributes_encodings = sbert_model.encode(test[\"preprocessed_attributes\"].values[:1])\n",
    "search_encodings = sbert_model.encode(test[\"search_term\"].values[:1])\n",
    "\n",
    "pred = model.predict([title_encodings,description_encodings,attributes_encodings,search_encodings])\n",
    "time_taken = time.time()-t\n",
    "print(\"Time taken by Sentence Bert model to predict the relevance: \",time_taken)"
   ]
  },
  {
   "cell_type": "markdown",
   "id": "5MApeM9cSbLd",
   "metadata": {
    "id": "5MApeM9cSbLd"
   },
   "source": [
    "---------------------------------------------------------------------------------------------------  The End --------------------------------------------------------------------------------"
   ]
  },
  {
   "cell_type": "code",
   "execution_count": null,
   "id": "_qDrBIFuSiwP",
   "metadata": {
    "id": "_qDrBIFuSiwP"
   },
   "outputs": [],
   "source": []
  }
 ],
 "metadata": {
  "accelerator": "GPU",
  "colab": {
   "collapsed_sections": [],
   "machine_shape": "hm",
   "name": "NLP_Final_Project_final.ipynb",
   "provenance": []
  },
  "kernelspec": {
   "display_name": "Python 3 (ipykernel)",
   "language": "python",
   "name": "python3"
  },
  "language_info": {
   "codemirror_mode": {
    "name": "ipython",
    "version": 3
   },
   "file_extension": ".py",
   "mimetype": "text/x-python",
   "name": "python",
   "nbconvert_exporter": "python",
   "pygments_lexer": "ipython3",
   "version": "3.8.11"
  }
 },
 "nbformat": 4,
 "nbformat_minor": 5
}
